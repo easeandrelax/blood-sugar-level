{
  "cells": [
    {
      "cell_type": "markdown",
      "metadata": {
        "id": "view-in-github",
        "colab_type": "text"
      },
      "source": [
        "<a href=\"https://colab.research.google.com/github/easeandrelax/blood-sugar-level/blob/main/Welcome_To_Colab.ipynb\" target=\"_parent\"><img src=\"https://colab.research.google.com/assets/colab-badge.svg\" alt=\"Open In Colab\"/></a>"
      ]
    },
    {
      "cell_type": "markdown",
      "source": [
        "Data Preprocessing"
      ],
      "metadata": {
        "id": "TG2YuGuU3vKM"
      }
    },
    {
      "cell_type": "code",
      "source": [
        "from google.colab import drive\n",
        "drive.mount('/content/drive')"
      ],
      "metadata": {
        "id": "CiE48fts3y7C",
        "outputId": "25d71ca4-98bd-4e73-f889-9b37daa22242",
        "colab": {
          "base_uri": "https://localhost:8080/"
        }
      },
      "execution_count": 9,
      "outputs": [
        {
          "output_type": "stream",
          "name": "stdout",
          "text": [
            "Mounted at /content/drive\n"
          ]
        }
      ]
    },
    {
      "cell_type": "markdown",
      "source": [
        "🔹 Why Mount Google Drive?\n",
        "Persistent Storage – Files in /content (Colab's default directory) get deleted after the session ends, but Google Drive keeps your files safe.\n",
        "\n",
        "Easy File Access – Instead of re-uploading files every time, you can store them in Drive and load them whenever needed.\n",
        "\n",
        "Handling Large Datasets – If you're working with large files (like images or CSVs), storing them in Drive prevents running out of Colab's limited storage.\n",
        "\n",
        "Syncing with Other Devices – You can access the same files from different devices without re-downloading them."
      ],
      "metadata": {
        "id": "Cu4V5AQQ4glM"
      }
    },
    {
      "cell_type": "code",
      "source": [
        "import os\n",
        "\n",
        "image_folder = \"/content/drive/MyDrive/train_images\"\n",
        "image_files = os.listdir(image_folder)\n",
        "\n",
        "print(f\"Total images found: {len(image_files)}\")\n",
        "print(image_files)  # Show first 10 images\n"
      ],
      "metadata": {
        "id": "fKBmr_yB_Ph6",
        "outputId": "85808d81-f20e-4567-ddc1-99027b6cc57b",
        "colab": {
          "base_uri": "https://localhost:8080/"
        }
      },
      "execution_count": null,
      "outputs": [
        {
          "output_type": "stream",
          "name": "stdout",
          "text": [
            "Total images found: 66\n",
            "['7005be54cab1.png', '702de9dcde32.png', '6fe67fd7f5d1.png', '6fe67482bfae.png', '70d0392397de.png', '70d657f8f503.png', '705f508d1e42.png', '70ed3ec68b94.png', '709784f7fcc2.png', '70f5caf5f305.png', '7102f29e052e.png', '711d1480d2e3.png', '710b05a96e0f.png', '7131bf4c9e6f.png', '7116128c65ab.png', '71a39c660432.png', '71c1a3cdbe47.png', '7179f85bfd6f.png', '71c22da3d6c6.png', '71e4130bf5c8.png', '720b5f62ce80.png', '71e43b4f8ba6.png', '71f6a6e4620a.png', '721214151233.png', '7247a2c97f71.png', '7214fc7cbe03.png', '72595230840c.png', '7269a1d84a57.png', '72606afaf3da.png', '72a867980067.png', '72c31aa48e2c.png', '726dff37edc0.png', '72d98188648f.png', '7270367410a1.png', '7335a2d43ada.png', '731b19a460ad.png', '7347bd23ba80.png', '7347f5133a6a.png', '7350c50667c5.png', '7356dd08b0ae.png', '735836b1ffa6.png', '73ba798fee25.png', '73881f55a3ec.png', '73a07e2ea23e.png', '737ef6226677.png', '73e83a07a16d.png', '73ef3c3dcbe4.png', '73d40ce06a67.png', '74211a2b6dcf.png', '7427dedafccf.png', '74418f620068.png', '7435e9a3e36e.png', '7455e2b5fc57.png', '74898f372d2b.png', '7526c59c36d3.png', '750e0168399d.png', '75238d945315.png', '7526cf435753.png', '74eee788edee.png', '7525ebb3434d.png', '7550966ef777.png', '75369248dba0.png', '753b14c27c83.png', '7569ac24762e.png', 'train_images', 'train.csv']\n"
          ]
        }
      ]
    },
    {
      "cell_type": "code",
      "source": [
        "import glob\n",
        "\n",
        "train_dir = \"/content/drive/MyDrive/train_images\"\n",
        "image_count = len(glob.glob(train_dir + \"/*.[jp][pn]g\"))  # Counts JPG, JPEG, PNG\n",
        "print(\"Number of images:\", image_count)\n",
        "\n"
      ],
      "metadata": {
        "colab": {
          "base_uri": "https://localhost:8080/"
        },
        "id": "_YPzvrymf2J0",
        "outputId": "6c0e8c15-cffc-4d89-d25a-0a7f790573cb"
      },
      "execution_count": null,
      "outputs": [
        {
          "output_type": "stream",
          "name": "stdout",
          "text": [
            "Number of images: 64\n"
          ]
        }
      ]
    },
    {
      "cell_type": "code",
      "source": [
        "image_list = !ls /content/drive/MyDrive/train_images\n",
        "image_count = len(image_list)\n",
        "print(\"Number of images:\", image_count)\n"
      ],
      "metadata": {
        "colab": {
          "base_uri": "https://localhost:8080/"
        },
        "id": "If_SSAqkhX9w",
        "outputId": "3aba283b-cdcd-49c1-fabb-9913af808f80"
      },
      "execution_count": null,
      "outputs": [
        {
          "output_type": "stream",
          "name": "stdout",
          "text": [
            "Number of images: 14\n"
          ]
        }
      ]
    },
    {
      "cell_type": "markdown",
      "source": [],
      "metadata": {
        "id": "HiUJPscx_by_"
      }
    },
    {
      "cell_type": "code",
      "source": [
        "csv_path = \"/content/drive/MyDrive/train_images/train.csv\"\n",
        "if os.path.exists(csv_path):\n",
        "    print(\"✅ CSV file found!\")\n",
        "else:\n",
        "    print(\"❌ CSV file missing. Please upload it.\")\n"
      ],
      "metadata": {
        "id": "-AHTizc0_cGJ",
        "outputId": "95ebd89c-0e88-4032-a58f-24f469a0efb9",
        "colab": {
          "base_uri": "https://localhost:8080/"
        }
      },
      "execution_count": null,
      "outputs": [
        {
          "output_type": "stream",
          "name": "stdout",
          "text": [
            "✅ CSV file found!\n"
          ]
        }
      ]
    },
    {
      "cell_type": "code",
      "source": [
        "import pandas as pd\n",
        "\n",
        "# Get list of image files\n",
        "image_files = os.listdir(image_folder)\n",
        "\n",
        "# Create a DataFrame with filenames and random labels (modify labels accordingly)\n",
        "df = pd.DataFrame({\"Image Name\": image_files, \"Label\": [\"class_1\"] * len(image_files)})\n",
        "\n",
        "# Save CSV in Drive\n",
        "csv_path = \"/content/drive/MyDrive/train_images/train.csv\"\n",
        "df.to_csv(csv_path, index=False)\n",
        "\n",
        "print(f\"✅ CSV file created and saved at: {csv_path}\")\n"
      ],
      "metadata": {
        "id": "pz88o9TO_g3D",
        "outputId": "e181a765-ae9c-46b5-da81-7af1ef235918",
        "colab": {
          "base_uri": "https://localhost:8080/"
        }
      },
      "execution_count": null,
      "outputs": [
        {
          "output_type": "stream",
          "name": "stdout",
          "text": [
            "✅ CSV file created and saved at: /content/drive/MyDrive/train_images/train.csv\n"
          ]
        }
      ]
    },
    {
      "cell_type": "code",
      "source": [
        "import pandas as pd\n",
        "\n",
        "CSV_PATH = \"/content/drive/MyDrive/train_images/train.csv\"\n",
        "df = pd.read_csv(CSV_PATH)\n",
        "\n",
        "print(\"✅ CSV File Loaded Successfully!\")\n",
        "print(df.head())  # Display the first few rows\n"
      ],
      "metadata": {
        "id": "_FBe0GlFNzAe",
        "outputId": "2f6ac6d8-1d4d-4e4a-c284-3ec27d46c3fd",
        "colab": {
          "base_uri": "https://localhost:8080/"
        }
      },
      "execution_count": null,
      "outputs": [
        {
          "output_type": "stream",
          "name": "stdout",
          "text": [
            "✅ CSV File Loaded Successfully!\n",
            "         Image Name    Label\n",
            "0  7005be54cab1.png  class_1\n",
            "1  702de9dcde32.png  class_1\n",
            "2  6fe67fd7f5d1.png  class_1\n",
            "3  6fe67482bfae.png  class_1\n",
            "4  70d0392397de.png  class_1\n"
          ]
        }
      ]
    },
    {
      "cell_type": "markdown",
      "source": [
        "Step 1: Load and Preprocess Data"
      ],
      "metadata": {
        "id": "mNsyH3tJZMkj"
      }
    },
    {
      "cell_type": "code",
      "source": [
        "!ls /content/drive/MyDrive/train_images\n",
        "\n"
      ],
      "metadata": {
        "colab": {
          "base_uri": "https://localhost:8080/"
        },
        "id": "EOtSCDpcZSzk",
        "outputId": "1315c5fd-a43b-414e-bb6d-2061d2614fb6"
      },
      "execution_count": null,
      "outputs": [
        {
          "output_type": "stream",
          "name": "stdout",
          "text": [
            "6fe67482bfae.png  7131bf4c9e6f.png  7269a1d84a57.png  73881f55a3ec.png\t75238d945315.png\n",
            "6fe67fd7f5d1.png  7179f85bfd6f.png  726dff37edc0.png  73a07e2ea23e.png\t7525ebb3434d.png\n",
            "7005be54cab1.png  71a39c660432.png  7270367410a1.png  73ba798fee25.png\t7526c59c36d3.png\n",
            "702de9dcde32.png  71c1a3cdbe47.png  72a867980067.png  73d40ce06a67.png\t7526cf435753.png\n",
            "705f508d1e42.png  71c22da3d6c6.png  72c31aa48e2c.png  73e83a07a16d.png\t75369248dba0.png\n",
            "709784f7fcc2.png  71e4130bf5c8.png  72d98188648f.png  73ef3c3dcbe4.png\t753b14c27c83.png\n",
            "70d0392397de.png  71e43b4f8ba6.png  731b19a460ad.png  74211a2b6dcf.png\t7550966ef777.png\n",
            "70d657f8f503.png  71f6a6e4620a.png  7335a2d43ada.png  7427dedafccf.png\t7569ac24762e.png\n",
            "70ed3ec68b94.png  720b5f62ce80.png  7347bd23ba80.png  7435e9a3e36e.png\ttrain.csv\n",
            "70f5caf5f305.png  721214151233.png  7347f5133a6a.png  74418f620068.png\ttrain_images\n",
            "7102f29e052e.png  7214fc7cbe03.png  7350c50667c5.png  7455e2b5fc57.png\n",
            "710b05a96e0f.png  7247a2c97f71.png  7356dd08b0ae.png  74898f372d2b.png\n",
            "7116128c65ab.png  72595230840c.png  735836b1ffa6.png  74eee788edee.png\n",
            "711d1480d2e3.png  72606afaf3da.png  737ef6226677.png  750e0168399d.png\n"
          ]
        }
      ]
    },
    {
      "cell_type": "code",
      "source": [
        "!ls /content/drive/MyDrive/train_images"
      ],
      "metadata": {
        "colab": {
          "base_uri": "https://localhost:8080/"
        },
        "id": "z9qIsaL6a5yO",
        "outputId": "d3dcae9f-76af-4d4d-8c4a-5899f0c2b0b2"
      },
      "execution_count": null,
      "outputs": [
        {
          "output_type": "stream",
          "name": "stdout",
          "text": [
            "6fe67482bfae.png  7131bf4c9e6f.png  7269a1d84a57.png  73881f55a3ec.png\t75238d945315.png\n",
            "6fe67fd7f5d1.png  7179f85bfd6f.png  726dff37edc0.png  73a07e2ea23e.png\t7525ebb3434d.png\n",
            "7005be54cab1.png  71a39c660432.png  7270367410a1.png  73ba798fee25.png\t7526c59c36d3.png\n",
            "702de9dcde32.png  71c1a3cdbe47.png  72a867980067.png  73d40ce06a67.png\t7526cf435753.png\n",
            "705f508d1e42.png  71c22da3d6c6.png  72c31aa48e2c.png  73e83a07a16d.png\t75369248dba0.png\n",
            "709784f7fcc2.png  71e4130bf5c8.png  72d98188648f.png  73ef3c3dcbe4.png\t753b14c27c83.png\n",
            "70d0392397de.png  71e43b4f8ba6.png  731b19a460ad.png  74211a2b6dcf.png\t7550966ef777.png\n",
            "70d657f8f503.png  71f6a6e4620a.png  7335a2d43ada.png  7427dedafccf.png\t7569ac24762e.png\n",
            "70ed3ec68b94.png  720b5f62ce80.png  7347bd23ba80.png  7435e9a3e36e.png\ttrain.csv\n",
            "70f5caf5f305.png  721214151233.png  7347f5133a6a.png  74418f620068.png\ttrain_images\n",
            "7102f29e052e.png  7214fc7cbe03.png  7350c50667c5.png  7455e2b5fc57.png\n",
            "710b05a96e0f.png  7247a2c97f71.png  7356dd08b0ae.png  74898f372d2b.png\n",
            "7116128c65ab.png  72595230840c.png  735836b1ffa6.png  74eee788edee.png\n",
            "711d1480d2e3.png  72606afaf3da.png  737ef6226677.png  750e0168399d.png\n"
          ]
        }
      ]
    },
    {
      "cell_type": "markdown",
      "source": [],
      "metadata": {
        "id": "J84BEGpBd2pZ"
      }
    },
    {
      "cell_type": "code",
      "source": [
        "import os\n",
        "import pandas as pd\n",
        "import numpy as np\n",
        "import tensorflow as tf\n",
        "import matplotlib.pyplot as plt\n",
        "from tensorflow.keras.preprocessing.image import load_img, img_to_array\n",
        "from sklearn.model_selection import train_test_split\n",
        "from tensorflow.keras.models import Sequential\n",
        "from tensorflow.keras.layers import Conv2D, MaxPooling2D, Flatten, Dense, Dropout\n",
        "from tensorflow.keras.optimizers import Adam\n",
        "\n",
        "# Mount Google Drive\n",
        "from google.colab import drive\n",
        "drive.mount('/content/drive')\n",
        "\n",
        "# Define dataset paths\n",
        "dataset_path = \"/content/drive/MyDrive/train_images/\"\n",
        "csv_path = \"/content/drive/MyDrive/train_images/train.csv\"  # Update with actual file path\n",
        "\n",
        "# Load CSV\n",
        "df = pd.read_csv(csv_path)\n",
        "df['image_path'] = dataset_path + df['Image Name']  # Full path to images\n",
        "\n",
        "# Show dataset preview\n",
        "print(df.head())\n"
      ],
      "metadata": {
        "colab": {
          "base_uri": "https://localhost:8080/"
        },
        "id": "SdpoJ4tkdoJy",
        "outputId": "5ffd358b-c3e5-41ef-a0ec-e0e9e83a8fba"
      },
      "execution_count": null,
      "outputs": [
        {
          "output_type": "stream",
          "name": "stdout",
          "text": [
            "Drive already mounted at /content/drive; to attempt to forcibly remount, call drive.mount(\"/content/drive\", force_remount=True).\n",
            "         Image Name    Label  \\\n",
            "0  7005be54cab1.png  class_1   \n",
            "1  702de9dcde32.png  class_1   \n",
            "2  6fe67fd7f5d1.png  class_1   \n",
            "3  6fe67482bfae.png  class_1   \n",
            "4  70d0392397de.png  class_1   \n",
            "\n",
            "                                          image_path  \n",
            "0  /content/drive/MyDrive/train_images/7005be54ca...  \n",
            "1  /content/drive/MyDrive/train_images/702de9dcde...  \n",
            "2  /content/drive/MyDrive/train_images/6fe67fd7f5...  \n",
            "3  /content/drive/MyDrive/train_images/6fe67482bf...  \n",
            "4  /content/drive/MyDrive/train_images/70d0392397...  \n"
          ]
        }
      ]
    },
    {
      "cell_type": "markdown",
      "source": [
        " Preprocess Images for Regression Model"
      ],
      "metadata": {
        "id": "LSWf7bYypZ2Y"
      }
    },
    {
      "cell_type": "code",
      "source": [
        "image_path = '/content/drive/MyDrive/train_images'\n",
        "IMG_SIZE = (224, 224)\n",
        "\n",
        "# Function to load images and normalize them\n",
        "def load_and_preprocess_image(image_path):\n",
        "    img = load_img(image_path, target_size=IMG_SIZE)\n",
        "    img_array = img_to_array(img) / 255.0  # Normalize\n",
        "    return img_array\n",
        "\n",
        "# Load all images into memory\n",
        "X = np.array([load_and_preprocess_image(img) for img in df['image_path']])\n",
        "y = np.array(df['Blood Sugar Level'])  # Target values\n",
        "\n",
        "# Train-Test Split (80% Train, 20% Test)\n",
        "X_train, X_test, y_train, y_test = train_test_split(X, y, test_size=0.2, random_state=42)\n",
        "\n"
      ],
      "metadata": {
        "colab": {
          "base_uri": "https://localhost:8080/",
          "height": 356
        },
        "id": "P9FXLxNopdH6",
        "outputId": "26444dce-d084-4373-abc8-1f3cd5abb14a"
      },
      "execution_count": null,
      "outputs": [
        {
          "output_type": "error",
          "ename": "UnidentifiedImageError",
          "evalue": "cannot identify image file <_io.BytesIO object at 0x787d8d1d1760>",
          "traceback": [
            "\u001b[0;31m---------------------------------------------------------------------------\u001b[0m",
            "\u001b[0;31mUnidentifiedImageError\u001b[0m                    Traceback (most recent call last)",
            "\u001b[0;32m<ipython-input-30-7355896df9b8>\u001b[0m in \u001b[0;36m<cell line: 0>\u001b[0;34m()\u001b[0m\n\u001b[1;32m      9\u001b[0m \u001b[0;34m\u001b[0m\u001b[0m\n\u001b[1;32m     10\u001b[0m \u001b[0;31m# Load all images into memory\u001b[0m\u001b[0;34m\u001b[0m\u001b[0;34m\u001b[0m\u001b[0m\n\u001b[0;32m---> 11\u001b[0;31m \u001b[0mX\u001b[0m \u001b[0;34m=\u001b[0m \u001b[0mnp\u001b[0m\u001b[0;34m.\u001b[0m\u001b[0marray\u001b[0m\u001b[0;34m(\u001b[0m\u001b[0;34m[\u001b[0m\u001b[0mload_and_preprocess_image\u001b[0m\u001b[0;34m(\u001b[0m\u001b[0mimg\u001b[0m\u001b[0;34m)\u001b[0m \u001b[0;32mfor\u001b[0m \u001b[0mimg\u001b[0m \u001b[0;32min\u001b[0m \u001b[0mdf\u001b[0m\u001b[0;34m[\u001b[0m\u001b[0;34m'image_path'\u001b[0m\u001b[0;34m]\u001b[0m\u001b[0;34m]\u001b[0m\u001b[0;34m)\u001b[0m\u001b[0;34m\u001b[0m\u001b[0;34m\u001b[0m\u001b[0m\n\u001b[0m\u001b[1;32m     12\u001b[0m \u001b[0my\u001b[0m \u001b[0;34m=\u001b[0m \u001b[0mnp\u001b[0m\u001b[0;34m.\u001b[0m\u001b[0marray\u001b[0m\u001b[0;34m(\u001b[0m\u001b[0mdf\u001b[0m\u001b[0;34m[\u001b[0m\u001b[0;34m'Blood Sugar Level'\u001b[0m\u001b[0;34m]\u001b[0m\u001b[0;34m)\u001b[0m  \u001b[0;31m# Target values\u001b[0m\u001b[0;34m\u001b[0m\u001b[0;34m\u001b[0m\u001b[0m\n\u001b[1;32m     13\u001b[0m \u001b[0;34m\u001b[0m\u001b[0m\n",
            "\u001b[0;32m<ipython-input-30-7355896df9b8>\u001b[0m in \u001b[0;36m<listcomp>\u001b[0;34m(.0)\u001b[0m\n\u001b[1;32m      9\u001b[0m \u001b[0;34m\u001b[0m\u001b[0m\n\u001b[1;32m     10\u001b[0m \u001b[0;31m# Load all images into memory\u001b[0m\u001b[0;34m\u001b[0m\u001b[0;34m\u001b[0m\u001b[0m\n\u001b[0;32m---> 11\u001b[0;31m \u001b[0mX\u001b[0m \u001b[0;34m=\u001b[0m \u001b[0mnp\u001b[0m\u001b[0;34m.\u001b[0m\u001b[0marray\u001b[0m\u001b[0;34m(\u001b[0m\u001b[0;34m[\u001b[0m\u001b[0mload_and_preprocess_image\u001b[0m\u001b[0;34m(\u001b[0m\u001b[0mimg\u001b[0m\u001b[0;34m)\u001b[0m \u001b[0;32mfor\u001b[0m \u001b[0mimg\u001b[0m \u001b[0;32min\u001b[0m \u001b[0mdf\u001b[0m\u001b[0;34m[\u001b[0m\u001b[0;34m'image_path'\u001b[0m\u001b[0;34m]\u001b[0m\u001b[0;34m]\u001b[0m\u001b[0;34m)\u001b[0m\u001b[0;34m\u001b[0m\u001b[0;34m\u001b[0m\u001b[0m\n\u001b[0m\u001b[1;32m     12\u001b[0m \u001b[0my\u001b[0m \u001b[0;34m=\u001b[0m \u001b[0mnp\u001b[0m\u001b[0;34m.\u001b[0m\u001b[0marray\u001b[0m\u001b[0;34m(\u001b[0m\u001b[0mdf\u001b[0m\u001b[0;34m[\u001b[0m\u001b[0;34m'Blood Sugar Level'\u001b[0m\u001b[0;34m]\u001b[0m\u001b[0;34m)\u001b[0m  \u001b[0;31m# Target values\u001b[0m\u001b[0;34m\u001b[0m\u001b[0;34m\u001b[0m\u001b[0m\n\u001b[1;32m     13\u001b[0m \u001b[0;34m\u001b[0m\u001b[0m\n",
            "\u001b[0;32m<ipython-input-30-7355896df9b8>\u001b[0m in \u001b[0;36mload_and_preprocess_image\u001b[0;34m(image_path)\u001b[0m\n\u001b[1;32m      4\u001b[0m \u001b[0;31m# Function to load images and normalize them\u001b[0m\u001b[0;34m\u001b[0m\u001b[0;34m\u001b[0m\u001b[0m\n\u001b[1;32m      5\u001b[0m \u001b[0;32mdef\u001b[0m \u001b[0mload_and_preprocess_image\u001b[0m\u001b[0;34m(\u001b[0m\u001b[0mimage_path\u001b[0m\u001b[0;34m)\u001b[0m\u001b[0;34m:\u001b[0m\u001b[0;34m\u001b[0m\u001b[0;34m\u001b[0m\u001b[0m\n\u001b[0;32m----> 6\u001b[0;31m     \u001b[0mimg\u001b[0m \u001b[0;34m=\u001b[0m \u001b[0mload_img\u001b[0m\u001b[0;34m(\u001b[0m\u001b[0mimage_path\u001b[0m\u001b[0;34m,\u001b[0m \u001b[0mtarget_size\u001b[0m\u001b[0;34m=\u001b[0m\u001b[0mIMG_SIZE\u001b[0m\u001b[0;34m)\u001b[0m\u001b[0;34m\u001b[0m\u001b[0;34m\u001b[0m\u001b[0m\n\u001b[0m\u001b[1;32m      7\u001b[0m     \u001b[0mimg_array\u001b[0m \u001b[0;34m=\u001b[0m \u001b[0mimg_to_array\u001b[0m\u001b[0;34m(\u001b[0m\u001b[0mimg\u001b[0m\u001b[0;34m)\u001b[0m \u001b[0;34m/\u001b[0m \u001b[0;36m255.0\u001b[0m  \u001b[0;31m# Normalize\u001b[0m\u001b[0;34m\u001b[0m\u001b[0;34m\u001b[0m\u001b[0m\n\u001b[1;32m      8\u001b[0m     \u001b[0;32mreturn\u001b[0m \u001b[0mimg_array\u001b[0m\u001b[0;34m\u001b[0m\u001b[0;34m\u001b[0m\u001b[0m\n",
            "\u001b[0;32m/usr/local/lib/python3.11/dist-packages/keras/src/utils/image_utils.py\u001b[0m in \u001b[0;36mload_img\u001b[0;34m(path, color_mode, target_size, interpolation, keep_aspect_ratio)\u001b[0m\n\u001b[1;32m    234\u001b[0m             \u001b[0mpath\u001b[0m \u001b[0;34m=\u001b[0m \u001b[0mstr\u001b[0m\u001b[0;34m(\u001b[0m\u001b[0mpath\u001b[0m\u001b[0;34m.\u001b[0m\u001b[0mresolve\u001b[0m\u001b[0;34m(\u001b[0m\u001b[0;34m)\u001b[0m\u001b[0;34m)\u001b[0m\u001b[0;34m\u001b[0m\u001b[0;34m\u001b[0m\u001b[0m\n\u001b[1;32m    235\u001b[0m         \u001b[0;32mwith\u001b[0m \u001b[0mopen\u001b[0m\u001b[0;34m(\u001b[0m\u001b[0mpath\u001b[0m\u001b[0;34m,\u001b[0m \u001b[0;34m\"rb\"\u001b[0m\u001b[0;34m)\u001b[0m \u001b[0;32mas\u001b[0m \u001b[0mf\u001b[0m\u001b[0;34m:\u001b[0m\u001b[0;34m\u001b[0m\u001b[0;34m\u001b[0m\u001b[0m\n\u001b[0;32m--> 236\u001b[0;31m             \u001b[0mimg\u001b[0m \u001b[0;34m=\u001b[0m \u001b[0mpil_image\u001b[0m\u001b[0;34m.\u001b[0m\u001b[0mopen\u001b[0m\u001b[0;34m(\u001b[0m\u001b[0mio\u001b[0m\u001b[0;34m.\u001b[0m\u001b[0mBytesIO\u001b[0m\u001b[0;34m(\u001b[0m\u001b[0mf\u001b[0m\u001b[0;34m.\u001b[0m\u001b[0mread\u001b[0m\u001b[0;34m(\u001b[0m\u001b[0;34m)\u001b[0m\u001b[0;34m)\u001b[0m\u001b[0;34m)\u001b[0m\u001b[0;34m\u001b[0m\u001b[0;34m\u001b[0m\u001b[0m\n\u001b[0m\u001b[1;32m    237\u001b[0m     \u001b[0;32melse\u001b[0m\u001b[0;34m:\u001b[0m\u001b[0;34m\u001b[0m\u001b[0;34m\u001b[0m\u001b[0m\n\u001b[1;32m    238\u001b[0m         raise TypeError(\n",
            "\u001b[0;32m/usr/local/lib/python3.11/dist-packages/PIL/Image.py\u001b[0m in \u001b[0;36mopen\u001b[0;34m(fp, mode, formats)\u001b[0m\n\u001b[1;32m   3530\u001b[0m         \u001b[0mwarnings\u001b[0m\u001b[0;34m.\u001b[0m\u001b[0mwarn\u001b[0m\u001b[0;34m(\u001b[0m\u001b[0mmessage\u001b[0m\u001b[0;34m)\u001b[0m\u001b[0;34m\u001b[0m\u001b[0;34m\u001b[0m\u001b[0m\n\u001b[1;32m   3531\u001b[0m     \u001b[0mmsg\u001b[0m \u001b[0;34m=\u001b[0m \u001b[0;34m\"cannot identify image file %r\"\u001b[0m \u001b[0;34m%\u001b[0m \u001b[0;34m(\u001b[0m\u001b[0mfilename\u001b[0m \u001b[0;32mif\u001b[0m \u001b[0mfilename\u001b[0m \u001b[0;32melse\u001b[0m \u001b[0mfp\u001b[0m\u001b[0;34m)\u001b[0m\u001b[0;34m\u001b[0m\u001b[0;34m\u001b[0m\u001b[0m\n\u001b[0;32m-> 3532\u001b[0;31m     \u001b[0;32mraise\u001b[0m \u001b[0mUnidentifiedImageError\u001b[0m\u001b[0;34m(\u001b[0m\u001b[0mmsg\u001b[0m\u001b[0;34m)\u001b[0m\u001b[0;34m\u001b[0m\u001b[0;34m\u001b[0m\u001b[0m\n\u001b[0m\u001b[1;32m   3533\u001b[0m \u001b[0;34m\u001b[0m\u001b[0m\n\u001b[1;32m   3534\u001b[0m \u001b[0;34m\u001b[0m\u001b[0m\n",
            "\u001b[0;31mUnidentifiedImageError\u001b[0m: cannot identify image file <_io.BytesIO object at 0x787d8d1d1760>"
          ]
        }
      ]
    },
    {
      "cell_type": "code",
      "source": [
        "import os\n",
        "import pandas as pd\n",
        "import numpy as np\n",
        "import tensorflow as tf\n",
        "import matplotlib.pyplot as plt\n",
        "from tensorflow.keras.preprocessing.image import load_img, img_to_array\n",
        "from sklearn.model_selection import train_test_split\n",
        "from tensorflow.keras.models import Sequential\n",
        "from tensorflow.keras.layers import Conv2D, MaxPooling2D, Flatten, Dense, Dropout\n",
        "from tensorflow.keras.optimizers import Adam\n",
        "from PIL import UnidentifiedImageError  # Import for handling the specific error\n",
        "\n",
        "# ... (rest of your code)\n",
        "image_path = 'content/drive/MyDrive/train_images'\n",
        "\n",
        "# Function to load images and normalize them, with error handling\n",
        "def load_and_preprocess_image(image_path):\n",
        "    try:\n",
        "        img = load_img(image_path, target_size=IMG_SIZE)\n",
        "        img_array = img_to_array(img) / 255.0  # Normalize\n",
        "        return img_array\n",
        "    except (FileNotFoundError, UnidentifiedImageError, OSError) as e:\n",
        "        print(f\"Error loading image {image_path}: {e}\")\n",
        "        return None  # or handle the error differently (e.g., skip the image)\n",
        "\n",
        "# Load all images into memory, filtering out failed loads\n",
        "X = np.array([img for img in [load_and_preprocess_image(img_path) for img_path in df['image_path']] if img is not None])\n",
        "# Update target values to match the filtered images\n",
        "valid_indices = [i for i, img in enumerate([load_and_preprocess_image(img_path) for img_path in df['image_path']]) if img is not None]\n",
        "y = np.array(df['Blood Sugar Level'][valid_indices])  # Target values\n",
        "\n",
        "# ... (rest of your code)"
      ],
      "metadata": {
        "colab": {
          "base_uri": "https://localhost:8080/",
          "height": 1000
        },
        "id": "D4IVip0bqxXD",
        "outputId": "4120d8db-fd95-4c86-d0d1-790bde3e1f38"
      },
      "execution_count": null,
      "outputs": [
        {
          "output_type": "stream",
          "name": "stdout",
          "text": [
            "Error loading image /content/drive/MyDrive/train_images/7005be54cab1.png: cannot identify image file <_io.BytesIO object at 0x787d8cfc84f0>\n",
            "Error loading image /content/drive/MyDrive/train_images/702de9dcde32.png: cannot identify image file <_io.BytesIO object at 0x787d8cfc84f0>\n",
            "Error loading image /content/drive/MyDrive/train_images/6fe67fd7f5d1.png: cannot identify image file <_io.BytesIO object at 0x787d8cfc84f0>\n",
            "Error loading image /content/drive/MyDrive/train_images/6fe67482bfae.png: cannot identify image file <_io.BytesIO object at 0x787d8cfc84f0>\n",
            "Error loading image /content/drive/MyDrive/train_images/70d0392397de.png: cannot identify image file <_io.BytesIO object at 0x787d8cfc84f0>\n",
            "Error loading image /content/drive/MyDrive/train_images/70d657f8f503.png: cannot identify image file <_io.BytesIO object at 0x787d8cfc84f0>\n",
            "Error loading image /content/drive/MyDrive/train_images/705f508d1e42.png: cannot identify image file <_io.BytesIO object at 0x787d8cfc84f0>\n",
            "Error loading image /content/drive/MyDrive/train_images/70ed3ec68b94.png: cannot identify image file <_io.BytesIO object at 0x787d8cfc84f0>\n",
            "Error loading image /content/drive/MyDrive/train_images/709784f7fcc2.png: cannot identify image file <_io.BytesIO object at 0x787d8cfc84f0>\n",
            "Error loading image /content/drive/MyDrive/train_images/70f5caf5f305.png: cannot identify image file <_io.BytesIO object at 0x787d8cfc84f0>\n",
            "Error loading image /content/drive/MyDrive/train_images/7102f29e052e.png: cannot identify image file <_io.BytesIO object at 0x787d8cfc84f0>\n",
            "Error loading image /content/drive/MyDrive/train_images/711d1480d2e3.png: cannot identify image file <_io.BytesIO object at 0x787d8cfc84f0>\n",
            "Error loading image /content/drive/MyDrive/train_images/710b05a96e0f.png: cannot identify image file <_io.BytesIO object at 0x787d8cfc84f0>\n",
            "Error loading image /content/drive/MyDrive/train_images/7131bf4c9e6f.png: cannot identify image file <_io.BytesIO object at 0x787d8cfc84f0>\n",
            "Error loading image /content/drive/MyDrive/train_images/7116128c65ab.png: cannot identify image file <_io.BytesIO object at 0x787d8cfc84f0>\n",
            "Error loading image /content/drive/MyDrive/train_images/71a39c660432.png: cannot identify image file <_io.BytesIO object at 0x787d8cfc84f0>\n",
            "Error loading image /content/drive/MyDrive/train_images/71c1a3cdbe47.png: cannot identify image file <_io.BytesIO object at 0x787d8cfc84f0>\n",
            "Error loading image /content/drive/MyDrive/train_images/7179f85bfd6f.png: cannot identify image file <_io.BytesIO object at 0x787d8cfc84f0>\n",
            "Error loading image /content/drive/MyDrive/train_images/71c22da3d6c6.png: cannot identify image file <_io.BytesIO object at 0x787d8cfc84f0>\n",
            "Error loading image /content/drive/MyDrive/train_images/71e4130bf5c8.png: cannot identify image file <_io.BytesIO object at 0x787d8cfc84f0>\n",
            "Error loading image /content/drive/MyDrive/train_images/720b5f62ce80.png: cannot identify image file <_io.BytesIO object at 0x787d8cfc84f0>\n",
            "Error loading image /content/drive/MyDrive/train_images/71e43b4f8ba6.png: cannot identify image file <_io.BytesIO object at 0x787d8cfc84f0>\n",
            "Error loading image /content/drive/MyDrive/train_images/71f6a6e4620a.png: cannot identify image file <_io.BytesIO object at 0x787d8cfc84f0>\n",
            "Error loading image /content/drive/MyDrive/train_images/721214151233.png: cannot identify image file <_io.BytesIO object at 0x787d8cfc84f0>\n",
            "Error loading image /content/drive/MyDrive/train_images/7247a2c97f71.png: cannot identify image file <_io.BytesIO object at 0x787d8cfc84f0>\n",
            "Error loading image /content/drive/MyDrive/train_images/7214fc7cbe03.png: cannot identify image file <_io.BytesIO object at 0x787d8cfc84f0>\n",
            "Error loading image /content/drive/MyDrive/train_images/72595230840c.png: cannot identify image file <_io.BytesIO object at 0x787d8cfc84f0>\n",
            "Error loading image /content/drive/MyDrive/train_images/7269a1d84a57.png: cannot identify image file <_io.BytesIO object at 0x787d8cfc84f0>\n",
            "Error loading image /content/drive/MyDrive/train_images/72606afaf3da.png: cannot identify image file <_io.BytesIO object at 0x787d8cfc84f0>\n",
            "Error loading image /content/drive/MyDrive/train_images/72a867980067.png: cannot identify image file <_io.BytesIO object at 0x787d8cfc84f0>\n",
            "Error loading image /content/drive/MyDrive/train_images/72c31aa48e2c.png: cannot identify image file <_io.BytesIO object at 0x787d8cfc84f0>\n",
            "Error loading image /content/drive/MyDrive/train_images/726dff37edc0.png: cannot identify image file <_io.BytesIO object at 0x787d8cfc84f0>\n",
            "Error loading image /content/drive/MyDrive/train_images/72d98188648f.png: cannot identify image file <_io.BytesIO object at 0x787d8cfc84f0>\n",
            "Error loading image /content/drive/MyDrive/train_images/7270367410a1.png: cannot identify image file <_io.BytesIO object at 0x787d8cfc84f0>\n",
            "Error loading image /content/drive/MyDrive/train_images/7335a2d43ada.png: cannot identify image file <_io.BytesIO object at 0x787d8cfc84f0>\n",
            "Error loading image /content/drive/MyDrive/train_images/731b19a460ad.png: cannot identify image file <_io.BytesIO object at 0x787d8cfc84f0>\n",
            "Error loading image /content/drive/MyDrive/train_images/7347bd23ba80.png: cannot identify image file <_io.BytesIO object at 0x787d8cfc84f0>\n",
            "Error loading image /content/drive/MyDrive/train_images/7347f5133a6a.png: cannot identify image file <_io.BytesIO object at 0x787d8cfc84f0>\n",
            "Error loading image /content/drive/MyDrive/train_images/7350c50667c5.png: cannot identify image file <_io.BytesIO object at 0x787d8cfc84f0>\n",
            "Error loading image /content/drive/MyDrive/train_images/7356dd08b0ae.png: cannot identify image file <_io.BytesIO object at 0x787d8cfc84f0>\n",
            "Error loading image /content/drive/MyDrive/train_images/735836b1ffa6.png: cannot identify image file <_io.BytesIO object at 0x787d8cfc84f0>\n",
            "Error loading image /content/drive/MyDrive/train_images/73ba798fee25.png: cannot identify image file <_io.BytesIO object at 0x787d8cfc84f0>\n",
            "Error loading image /content/drive/MyDrive/train_images/73881f55a3ec.png: cannot identify image file <_io.BytesIO object at 0x787d8cfc84f0>\n",
            "Error loading image /content/drive/MyDrive/train_images/73a07e2ea23e.png: cannot identify image file <_io.BytesIO object at 0x787d8cfc84f0>\n",
            "Error loading image /content/drive/MyDrive/train_images/737ef6226677.png: cannot identify image file <_io.BytesIO object at 0x787d8cfc84f0>\n",
            "Error loading image /content/drive/MyDrive/train_images/73e83a07a16d.png: cannot identify image file <_io.BytesIO object at 0x787d8cfc84f0>\n",
            "Error loading image /content/drive/MyDrive/train_images/73ef3c3dcbe4.png: cannot identify image file <_io.BytesIO object at 0x787d8cfc84f0>\n",
            "Error loading image /content/drive/MyDrive/train_images/73d40ce06a67.png: cannot identify image file <_io.BytesIO object at 0x787d8cfc84f0>\n",
            "Error loading image /content/drive/MyDrive/train_images/74211a2b6dcf.png: cannot identify image file <_io.BytesIO object at 0x787d8cfc84f0>\n",
            "Error loading image /content/drive/MyDrive/train_images/7427dedafccf.png: cannot identify image file <_io.BytesIO object at 0x787d8cfc84f0>\n",
            "Error loading image /content/drive/MyDrive/train_images/74418f620068.png: cannot identify image file <_io.BytesIO object at 0x787d8cfc84f0>\n",
            "Error loading image /content/drive/MyDrive/train_images/7435e9a3e36e.png: cannot identify image file <_io.BytesIO object at 0x787d8cfc84f0>\n",
            "Error loading image /content/drive/MyDrive/train_images/7455e2b5fc57.png: cannot identify image file <_io.BytesIO object at 0x787d8cfc84f0>\n",
            "Error loading image /content/drive/MyDrive/train_images/74898f372d2b.png: cannot identify image file <_io.BytesIO object at 0x787d8cfc84f0>\n",
            "Error loading image /content/drive/MyDrive/train_images/7526c59c36d3.png: cannot identify image file <_io.BytesIO object at 0x787d8cfc84f0>\n",
            "Error loading image /content/drive/MyDrive/train_images/750e0168399d.png: cannot identify image file <_io.BytesIO object at 0x787d8cfc84f0>\n",
            "Error loading image /content/drive/MyDrive/train_images/75238d945315.png: cannot identify image file <_io.BytesIO object at 0x787d8cfc84f0>\n",
            "Error loading image /content/drive/MyDrive/train_images/7526cf435753.png: cannot identify image file <_io.BytesIO object at 0x787d8cfc84f0>\n",
            "Error loading image /content/drive/MyDrive/train_images/74eee788edee.png: cannot identify image file <_io.BytesIO object at 0x787d8cfc84f0>\n",
            "Error loading image /content/drive/MyDrive/train_images/7525ebb3434d.png: cannot identify image file <_io.BytesIO object at 0x787d8cfc84f0>\n",
            "Error loading image /content/drive/MyDrive/train_images/7550966ef777.png: cannot identify image file <_io.BytesIO object at 0x787d8cfc84f0>\n",
            "Error loading image /content/drive/MyDrive/train_images/75369248dba0.png: cannot identify image file <_io.BytesIO object at 0x787d8cfc84f0>\n",
            "Error loading image /content/drive/MyDrive/train_images/753b14c27c83.png: cannot identify image file <_io.BytesIO object at 0x787d8cfc84f0>\n",
            "Error loading image /content/drive/MyDrive/train_images/7569ac24762e.png: cannot identify image file <_io.BytesIO object at 0x787d8cfc84f0>\n",
            "Error loading image /content/drive/MyDrive/train_images/train_images: [Errno 21] Is a directory: '/content/drive/MyDrive/train_images/train_images'\n",
            "Error loading image /content/drive/MyDrive/train_images/train.csv: cannot identify image file <_io.BytesIO object at 0x787d8cfc84f0>\n",
            "Error loading image /content/drive/MyDrive/train_images/7005be54cab1.png: cannot identify image file <_io.BytesIO object at 0x787d8cc61c60>\n",
            "Error loading image /content/drive/MyDrive/train_images/702de9dcde32.png: cannot identify image file <_io.BytesIO object at 0x787d8cc61c60>\n",
            "Error loading image /content/drive/MyDrive/train_images/6fe67fd7f5d1.png: cannot identify image file <_io.BytesIO object at 0x787d8cc61c60>\n",
            "Error loading image /content/drive/MyDrive/train_images/6fe67482bfae.png: cannot identify image file <_io.BytesIO object at 0x787d8cc61c60>\n",
            "Error loading image /content/drive/MyDrive/train_images/70d0392397de.png: cannot identify image file <_io.BytesIO object at 0x787d8cc61c60>\n",
            "Error loading image /content/drive/MyDrive/train_images/70d657f8f503.png: cannot identify image file <_io.BytesIO object at 0x787d8cc61c60>\n",
            "Error loading image /content/drive/MyDrive/train_images/705f508d1e42.png: cannot identify image file <_io.BytesIO object at 0x787d8cc61c60>\n",
            "Error loading image /content/drive/MyDrive/train_images/70ed3ec68b94.png: cannot identify image file <_io.BytesIO object at 0x787d8cc61c60>\n",
            "Error loading image /content/drive/MyDrive/train_images/709784f7fcc2.png: cannot identify image file <_io.BytesIO object at 0x787d8cc61c60>\n",
            "Error loading image /content/drive/MyDrive/train_images/70f5caf5f305.png: cannot identify image file <_io.BytesIO object at 0x787d8cc61c60>\n",
            "Error loading image /content/drive/MyDrive/train_images/7102f29e052e.png: cannot identify image file <_io.BytesIO object at 0x787d8cc61c60>\n",
            "Error loading image /content/drive/MyDrive/train_images/711d1480d2e3.png: cannot identify image file <_io.BytesIO object at 0x787d8cc61c60>\n",
            "Error loading image /content/drive/MyDrive/train_images/710b05a96e0f.png: cannot identify image file <_io.BytesIO object at 0x787d8cc61c60>\n",
            "Error loading image /content/drive/MyDrive/train_images/7131bf4c9e6f.png: cannot identify image file <_io.BytesIO object at 0x787d8cc61c60>\n",
            "Error loading image /content/drive/MyDrive/train_images/7116128c65ab.png: cannot identify image file <_io.BytesIO object at 0x787d8cc61c60>\n",
            "Error loading image /content/drive/MyDrive/train_images/71a39c660432.png: cannot identify image file <_io.BytesIO object at 0x787d8cc61c60>\n",
            "Error loading image /content/drive/MyDrive/train_images/71c1a3cdbe47.png: cannot identify image file <_io.BytesIO object at 0x787d8cc61c60>\n",
            "Error loading image /content/drive/MyDrive/train_images/7179f85bfd6f.png: cannot identify image file <_io.BytesIO object at 0x787d8cc61c60>\n",
            "Error loading image /content/drive/MyDrive/train_images/71c22da3d6c6.png: cannot identify image file <_io.BytesIO object at 0x787d8cc61c60>\n",
            "Error loading image /content/drive/MyDrive/train_images/71e4130bf5c8.png: cannot identify image file <_io.BytesIO object at 0x787d8cc61c60>\n",
            "Error loading image /content/drive/MyDrive/train_images/720b5f62ce80.png: cannot identify image file <_io.BytesIO object at 0x787d8cc61c60>\n",
            "Error loading image /content/drive/MyDrive/train_images/71e43b4f8ba6.png: cannot identify image file <_io.BytesIO object at 0x787d8cc61c60>\n",
            "Error loading image /content/drive/MyDrive/train_images/71f6a6e4620a.png: cannot identify image file <_io.BytesIO object at 0x787d8cc61c60>\n",
            "Error loading image /content/drive/MyDrive/train_images/721214151233.png: cannot identify image file <_io.BytesIO object at 0x787d8cc61c60>\n",
            "Error loading image /content/drive/MyDrive/train_images/7247a2c97f71.png: cannot identify image file <_io.BytesIO object at 0x787d8cc61c60>\n",
            "Error loading image /content/drive/MyDrive/train_images/7214fc7cbe03.png: cannot identify image file <_io.BytesIO object at 0x787d8cc61c60>\n",
            "Error loading image /content/drive/MyDrive/train_images/72595230840c.png: cannot identify image file <_io.BytesIO object at 0x787d8cc61c60>\n",
            "Error loading image /content/drive/MyDrive/train_images/7269a1d84a57.png: cannot identify image file <_io.BytesIO object at 0x787d8cc61c60>\n",
            "Error loading image /content/drive/MyDrive/train_images/72606afaf3da.png: cannot identify image file <_io.BytesIO object at 0x787d8cc61c60>\n",
            "Error loading image /content/drive/MyDrive/train_images/72a867980067.png: cannot identify image file <_io.BytesIO object at 0x787d8cc61c60>\n",
            "Error loading image /content/drive/MyDrive/train_images/72c31aa48e2c.png: cannot identify image file <_io.BytesIO object at 0x787d8cc61c60>\n",
            "Error loading image /content/drive/MyDrive/train_images/726dff37edc0.png: cannot identify image file <_io.BytesIO object at 0x787d8cc61c60>\n",
            "Error loading image /content/drive/MyDrive/train_images/72d98188648f.png: cannot identify image file <_io.BytesIO object at 0x787d8cc61c60>\n",
            "Error loading image /content/drive/MyDrive/train_images/7270367410a1.png: cannot identify image file <_io.BytesIO object at 0x787d8cc61c60>\n",
            "Error loading image /content/drive/MyDrive/train_images/7335a2d43ada.png: cannot identify image file <_io.BytesIO object at 0x787d8cc61c60>\n",
            "Error loading image /content/drive/MyDrive/train_images/731b19a460ad.png: cannot identify image file <_io.BytesIO object at 0x787d8cc61c60>\n",
            "Error loading image /content/drive/MyDrive/train_images/7347bd23ba80.png: cannot identify image file <_io.BytesIO object at 0x787d8cc61c60>\n",
            "Error loading image /content/drive/MyDrive/train_images/7347f5133a6a.png: cannot identify image file <_io.BytesIO object at 0x787d8cc61c60>\n",
            "Error loading image /content/drive/MyDrive/train_images/7350c50667c5.png: cannot identify image file <_io.BytesIO object at 0x787d8cc61c60>\n",
            "Error loading image /content/drive/MyDrive/train_images/7356dd08b0ae.png: cannot identify image file <_io.BytesIO object at 0x787d8cc61c60>\n",
            "Error loading image /content/drive/MyDrive/train_images/735836b1ffa6.png: cannot identify image file <_io.BytesIO object at 0x787d8cc61c60>\n",
            "Error loading image /content/drive/MyDrive/train_images/73ba798fee25.png: cannot identify image file <_io.BytesIO object at 0x787d8cc61c60>\n",
            "Error loading image /content/drive/MyDrive/train_images/73881f55a3ec.png: cannot identify image file <_io.BytesIO object at 0x787d8cc61c60>\n",
            "Error loading image /content/drive/MyDrive/train_images/73a07e2ea23e.png: cannot identify image file <_io.BytesIO object at 0x787d8cc61c60>\n",
            "Error loading image /content/drive/MyDrive/train_images/737ef6226677.png: cannot identify image file <_io.BytesIO object at 0x787d8cc61c60>\n",
            "Error loading image /content/drive/MyDrive/train_images/73e83a07a16d.png: cannot identify image file <_io.BytesIO object at 0x787d8cc61c60>\n",
            "Error loading image /content/drive/MyDrive/train_images/73ef3c3dcbe4.png: cannot identify image file <_io.BytesIO object at 0x787d8cc61c60>\n",
            "Error loading image /content/drive/MyDrive/train_images/73d40ce06a67.png: cannot identify image file <_io.BytesIO object at 0x787d8cc61c60>\n",
            "Error loading image /content/drive/MyDrive/train_images/74211a2b6dcf.png: cannot identify image file <_io.BytesIO object at 0x787d8cc61c60>\n",
            "Error loading image /content/drive/MyDrive/train_images/7427dedafccf.png: cannot identify image file <_io.BytesIO object at 0x787d8cc61c60>\n",
            "Error loading image /content/drive/MyDrive/train_images/74418f620068.png: cannot identify image file <_io.BytesIO object at 0x787d8cc61c60>\n",
            "Error loading image /content/drive/MyDrive/train_images/7435e9a3e36e.png: cannot identify image file <_io.BytesIO object at 0x787d8cc61c60>\n",
            "Error loading image /content/drive/MyDrive/train_images/7455e2b5fc57.png: cannot identify image file <_io.BytesIO object at 0x787d8cc61c60>\n",
            "Error loading image /content/drive/MyDrive/train_images/74898f372d2b.png: cannot identify image file <_io.BytesIO object at 0x787d8cc61c60>\n",
            "Error loading image /content/drive/MyDrive/train_images/7526c59c36d3.png: cannot identify image file <_io.BytesIO object at 0x787d8cc61c60>\n",
            "Error loading image /content/drive/MyDrive/train_images/750e0168399d.png: cannot identify image file <_io.BytesIO object at 0x787d8cc61c60>\n",
            "Error loading image /content/drive/MyDrive/train_images/75238d945315.png: cannot identify image file <_io.BytesIO object at 0x787d8cc631f0>\n",
            "Error loading image /content/drive/MyDrive/train_images/7526cf435753.png: cannot identify image file <_io.BytesIO object at 0x787d8cc631f0>\n",
            "Error loading image /content/drive/MyDrive/train_images/74eee788edee.png: cannot identify image file <_io.BytesIO object at 0x787d8cc631f0>\n",
            "Error loading image /content/drive/MyDrive/train_images/7525ebb3434d.png: cannot identify image file <_io.BytesIO object at 0x787d8cc631f0>\n",
            "Error loading image /content/drive/MyDrive/train_images/7550966ef777.png: cannot identify image file <_io.BytesIO object at 0x787d8cc631f0>\n",
            "Error loading image /content/drive/MyDrive/train_images/75369248dba0.png: cannot identify image file <_io.BytesIO object at 0x787d8cc631f0>\n",
            "Error loading image /content/drive/MyDrive/train_images/753b14c27c83.png: cannot identify image file <_io.BytesIO object at 0x787d8cc631f0>\n",
            "Error loading image /content/drive/MyDrive/train_images/7569ac24762e.png: cannot identify image file <_io.BytesIO object at 0x787d8cc631f0>\n",
            "Error loading image /content/drive/MyDrive/train_images/train_images: [Errno 21] Is a directory: '/content/drive/MyDrive/train_images/train_images'\n",
            "Error loading image /content/drive/MyDrive/train_images/train.csv: cannot identify image file <_io.BytesIO object at 0x787d8cc61d50>\n"
          ]
        },
        {
          "output_type": "error",
          "ename": "KeyError",
          "evalue": "'Blood Sugar Level'",
          "traceback": [
            "\u001b[0;31m---------------------------------------------------------------------------\u001b[0m",
            "\u001b[0;31mKeyError\u001b[0m                                  Traceback (most recent call last)",
            "\u001b[0;32m/usr/local/lib/python3.11/dist-packages/pandas/core/indexes/base.py\u001b[0m in \u001b[0;36mget_loc\u001b[0;34m(self, key)\u001b[0m\n\u001b[1;32m   3804\u001b[0m         \u001b[0;32mtry\u001b[0m\u001b[0;34m:\u001b[0m\u001b[0;34m\u001b[0m\u001b[0;34m\u001b[0m\u001b[0m\n\u001b[0;32m-> 3805\u001b[0;31m             \u001b[0;32mreturn\u001b[0m \u001b[0mself\u001b[0m\u001b[0;34m.\u001b[0m\u001b[0m_engine\u001b[0m\u001b[0;34m.\u001b[0m\u001b[0mget_loc\u001b[0m\u001b[0;34m(\u001b[0m\u001b[0mcasted_key\u001b[0m\u001b[0;34m)\u001b[0m\u001b[0;34m\u001b[0m\u001b[0;34m\u001b[0m\u001b[0m\n\u001b[0m\u001b[1;32m   3806\u001b[0m         \u001b[0;32mexcept\u001b[0m \u001b[0mKeyError\u001b[0m \u001b[0;32mas\u001b[0m \u001b[0merr\u001b[0m\u001b[0;34m:\u001b[0m\u001b[0;34m\u001b[0m\u001b[0;34m\u001b[0m\u001b[0m\n",
            "\u001b[0;32mindex.pyx\u001b[0m in \u001b[0;36mpandas._libs.index.IndexEngine.get_loc\u001b[0;34m()\u001b[0m\n",
            "\u001b[0;32mindex.pyx\u001b[0m in \u001b[0;36mpandas._libs.index.IndexEngine.get_loc\u001b[0;34m()\u001b[0m\n",
            "\u001b[0;32mpandas/_libs/hashtable_class_helper.pxi\u001b[0m in \u001b[0;36mpandas._libs.hashtable.PyObjectHashTable.get_item\u001b[0;34m()\u001b[0m\n",
            "\u001b[0;32mpandas/_libs/hashtable_class_helper.pxi\u001b[0m in \u001b[0;36mpandas._libs.hashtable.PyObjectHashTable.get_item\u001b[0;34m()\u001b[0m\n",
            "\u001b[0;31mKeyError\u001b[0m: 'Blood Sugar Level'",
            "\nThe above exception was the direct cause of the following exception:\n",
            "\u001b[0;31mKeyError\u001b[0m                                  Traceback (most recent call last)",
            "\u001b[0;32m<ipython-input-32-47d1bd2526d3>\u001b[0m in \u001b[0;36m<cell line: 0>\u001b[0;34m()\u001b[0m\n\u001b[1;32m     28\u001b[0m \u001b[0;31m# Update target values to match the filtered images\u001b[0m\u001b[0;34m\u001b[0m\u001b[0;34m\u001b[0m\u001b[0m\n\u001b[1;32m     29\u001b[0m \u001b[0mvalid_indices\u001b[0m \u001b[0;34m=\u001b[0m \u001b[0;34m[\u001b[0m\u001b[0mi\u001b[0m \u001b[0;32mfor\u001b[0m \u001b[0mi\u001b[0m\u001b[0;34m,\u001b[0m \u001b[0mimg\u001b[0m \u001b[0;32min\u001b[0m \u001b[0menumerate\u001b[0m\u001b[0;34m(\u001b[0m\u001b[0;34m[\u001b[0m\u001b[0mload_and_preprocess_image\u001b[0m\u001b[0;34m(\u001b[0m\u001b[0mimg_path\u001b[0m\u001b[0;34m)\u001b[0m \u001b[0;32mfor\u001b[0m \u001b[0mimg_path\u001b[0m \u001b[0;32min\u001b[0m \u001b[0mdf\u001b[0m\u001b[0;34m[\u001b[0m\u001b[0;34m'image_path'\u001b[0m\u001b[0;34m]\u001b[0m\u001b[0;34m]\u001b[0m\u001b[0;34m)\u001b[0m \u001b[0;32mif\u001b[0m \u001b[0mimg\u001b[0m \u001b[0;32mis\u001b[0m \u001b[0;32mnot\u001b[0m \u001b[0;32mNone\u001b[0m\u001b[0;34m]\u001b[0m\u001b[0;34m\u001b[0m\u001b[0;34m\u001b[0m\u001b[0m\n\u001b[0;32m---> 30\u001b[0;31m \u001b[0my\u001b[0m \u001b[0;34m=\u001b[0m \u001b[0mnp\u001b[0m\u001b[0;34m.\u001b[0m\u001b[0marray\u001b[0m\u001b[0;34m(\u001b[0m\u001b[0mdf\u001b[0m\u001b[0;34m[\u001b[0m\u001b[0;34m'Blood Sugar Level'\u001b[0m\u001b[0;34m]\u001b[0m\u001b[0;34m[\u001b[0m\u001b[0mvalid_indices\u001b[0m\u001b[0;34m]\u001b[0m\u001b[0;34m)\u001b[0m  \u001b[0;31m# Target values\u001b[0m\u001b[0;34m\u001b[0m\u001b[0;34m\u001b[0m\u001b[0m\n\u001b[0m\u001b[1;32m     31\u001b[0m \u001b[0;34m\u001b[0m\u001b[0m\n\u001b[1;32m     32\u001b[0m \u001b[0;31m# ... (rest of your code)\u001b[0m\u001b[0;34m\u001b[0m\u001b[0;34m\u001b[0m\u001b[0m\n",
            "\u001b[0;32m/usr/local/lib/python3.11/dist-packages/pandas/core/frame.py\u001b[0m in \u001b[0;36m__getitem__\u001b[0;34m(self, key)\u001b[0m\n\u001b[1;32m   4100\u001b[0m             \u001b[0;32mif\u001b[0m \u001b[0mself\u001b[0m\u001b[0;34m.\u001b[0m\u001b[0mcolumns\u001b[0m\u001b[0;34m.\u001b[0m\u001b[0mnlevels\u001b[0m \u001b[0;34m>\u001b[0m \u001b[0;36m1\u001b[0m\u001b[0;34m:\u001b[0m\u001b[0;34m\u001b[0m\u001b[0;34m\u001b[0m\u001b[0m\n\u001b[1;32m   4101\u001b[0m                 \u001b[0;32mreturn\u001b[0m \u001b[0mself\u001b[0m\u001b[0;34m.\u001b[0m\u001b[0m_getitem_multilevel\u001b[0m\u001b[0;34m(\u001b[0m\u001b[0mkey\u001b[0m\u001b[0;34m)\u001b[0m\u001b[0;34m\u001b[0m\u001b[0;34m\u001b[0m\u001b[0m\n\u001b[0;32m-> 4102\u001b[0;31m             \u001b[0mindexer\u001b[0m \u001b[0;34m=\u001b[0m \u001b[0mself\u001b[0m\u001b[0;34m.\u001b[0m\u001b[0mcolumns\u001b[0m\u001b[0;34m.\u001b[0m\u001b[0mget_loc\u001b[0m\u001b[0;34m(\u001b[0m\u001b[0mkey\u001b[0m\u001b[0;34m)\u001b[0m\u001b[0;34m\u001b[0m\u001b[0;34m\u001b[0m\u001b[0m\n\u001b[0m\u001b[1;32m   4103\u001b[0m             \u001b[0;32mif\u001b[0m \u001b[0mis_integer\u001b[0m\u001b[0;34m(\u001b[0m\u001b[0mindexer\u001b[0m\u001b[0;34m)\u001b[0m\u001b[0;34m:\u001b[0m\u001b[0;34m\u001b[0m\u001b[0;34m\u001b[0m\u001b[0m\n\u001b[1;32m   4104\u001b[0m                 \u001b[0mindexer\u001b[0m \u001b[0;34m=\u001b[0m \u001b[0;34m[\u001b[0m\u001b[0mindexer\u001b[0m\u001b[0;34m]\u001b[0m\u001b[0;34m\u001b[0m\u001b[0;34m\u001b[0m\u001b[0m\n",
            "\u001b[0;32m/usr/local/lib/python3.11/dist-packages/pandas/core/indexes/base.py\u001b[0m in \u001b[0;36mget_loc\u001b[0;34m(self, key)\u001b[0m\n\u001b[1;32m   3810\u001b[0m             ):\n\u001b[1;32m   3811\u001b[0m                 \u001b[0;32mraise\u001b[0m \u001b[0mInvalidIndexError\u001b[0m\u001b[0;34m(\u001b[0m\u001b[0mkey\u001b[0m\u001b[0;34m)\u001b[0m\u001b[0;34m\u001b[0m\u001b[0;34m\u001b[0m\u001b[0m\n\u001b[0;32m-> 3812\u001b[0;31m             \u001b[0;32mraise\u001b[0m \u001b[0mKeyError\u001b[0m\u001b[0;34m(\u001b[0m\u001b[0mkey\u001b[0m\u001b[0;34m)\u001b[0m \u001b[0;32mfrom\u001b[0m \u001b[0merr\u001b[0m\u001b[0;34m\u001b[0m\u001b[0;34m\u001b[0m\u001b[0m\n\u001b[0m\u001b[1;32m   3813\u001b[0m         \u001b[0;32mexcept\u001b[0m \u001b[0mTypeError\u001b[0m\u001b[0;34m:\u001b[0m\u001b[0;34m\u001b[0m\u001b[0;34m\u001b[0m\u001b[0m\n\u001b[1;32m   3814\u001b[0m             \u001b[0;31m# If we have a listlike key, _check_indexing_error will raise\u001b[0m\u001b[0;34m\u001b[0m\u001b[0;34m\u001b[0m\u001b[0m\n",
            "\u001b[0;31mKeyError\u001b[0m: 'Blood Sugar Level'"
          ]
        }
      ]
    },
    {
      "cell_type": "code",
      "source": [
        "import os\n",
        "import glob\n",
        "import pandas as pd\n",
        "import numpy as np\n",
        "import tensorflow as tf\n",
        "import matplotlib.pyplot as plt\n",
        "from tensorflow.keras.preprocessing.image import load_img, img_to_array\n",
        "from sklearn.model_selection import train_test_split\n",
        "from tensorflow.keras.models import Sequential\n",
        "from tensorflow.keras.layers import Conv2D, MaxPooling2D, Flatten, Dense, Dropout\n",
        "from tensorflow.keras.optimizers import Adam\n",
        "from PIL import UnidentifiedImageError\n",
        "\n",
        "# Define image size\n",
        "IMG_SIZE = (224, 224)  # Resize images to 224x224\n",
        "\n",
        "# Get all image file paths using glob\n",
        "image_dir = \"/content/drive/MyDrive/train_images\"\n",
        "image_paths = glob.glob(image_dir + \"/*.[jp][pn]g\")  # Matches .jpg, .jpeg, .png\n",
        "\n",
        "# Load labels from CSV (Ensure it contains 'image_path' and 'Blood Sugar Level')\n",
        "df_labels = pd.read_csv(\"/content/drive/MyDrive/train_images/train.csv\")\n",
        "\n",
        "# Convert to DataFrame and merge with labels\n",
        "df = pd.DataFrame({\"image_path\": image_paths})\n",
        "df = df.merge(df_labels, on=\"image_path\", how=\"inner\")  # Ensure only valid images are included\n",
        "\n",
        "# Function to load and preprocess images\n",
        "def load_and_preprocess_image(image_path):\n",
        "    try:\n",
        "        img = load_img(image_path, target_size=IMG_SIZE)  # Resize image\n",
        "        img_array = img_to_array(img) / 255.0  # Normalize pixel values\n",
        "        return img_array\n",
        "    except (FileNotFoundError, UnidentifiedImageError, OSError) as e:\n",
        "        print(f\"Error loading image {image_path}: {e}\")\n",
        "        return None\n",
        "\n",
        "# Load images and filter out failed loads\n",
        "images = [load_and_preprocess_image(img_path) for img_path in df['image_path']]\n",
        "valid_data = [(img, df['Blood Sugar Level'][i]) for i, img in enumerate(images) if img is not None]\n",
        "\n",
        "# Convert to numpy arrays\n",
        "X = np.array([img for img, _ in valid_data])\n",
        "y = np.array([label for _, label in valid_data])\n",
        "\n",
        "print(f\"Loaded {len(X)} valid images out of {len(image_paths)} total.\")\n",
        "\n",
        "# Split data into training and testing sets\n",
        "X_train, X_test, y_train, y_test = train_test_split(X, y, test_size=0.2, random_state=42)\n",
        "\n",
        "print(f\"Training samples: {len(X_train)}, Testing samples: {len(X_test)}\")\n"
      ],
      "metadata": {
        "colab": {
          "base_uri": "https://localhost:8080/",
          "height": 356
        },
        "id": "vINu8F0BuH2Z",
        "outputId": "0cf8534e-8de7-4e7c-ebe8-2998f49386ef"
      },
      "execution_count": null,
      "outputs": [
        {
          "output_type": "error",
          "ename": "KeyError",
          "evalue": "'image_path'",
          "traceback": [
            "\u001b[0;31m---------------------------------------------------------------------------\u001b[0m",
            "\u001b[0;31mKeyError\u001b[0m                                  Traceback (most recent call last)",
            "\u001b[0;32m<ipython-input-34-7caa937fed85>\u001b[0m in \u001b[0;36m<cell line: 0>\u001b[0;34m()\u001b[0m\n\u001b[1;32m     24\u001b[0m \u001b[0;31m# Convert to DataFrame and merge with labels\u001b[0m\u001b[0;34m\u001b[0m\u001b[0;34m\u001b[0m\u001b[0m\n\u001b[1;32m     25\u001b[0m \u001b[0mdf\u001b[0m \u001b[0;34m=\u001b[0m \u001b[0mpd\u001b[0m\u001b[0;34m.\u001b[0m\u001b[0mDataFrame\u001b[0m\u001b[0;34m(\u001b[0m\u001b[0;34m{\u001b[0m\u001b[0;34m\"image_path\"\u001b[0m\u001b[0;34m:\u001b[0m \u001b[0mimage_paths\u001b[0m\u001b[0;34m}\u001b[0m\u001b[0;34m)\u001b[0m\u001b[0;34m\u001b[0m\u001b[0;34m\u001b[0m\u001b[0m\n\u001b[0;32m---> 26\u001b[0;31m \u001b[0mdf\u001b[0m \u001b[0;34m=\u001b[0m \u001b[0mdf\u001b[0m\u001b[0;34m.\u001b[0m\u001b[0mmerge\u001b[0m\u001b[0;34m(\u001b[0m\u001b[0mdf_labels\u001b[0m\u001b[0;34m,\u001b[0m \u001b[0mon\u001b[0m\u001b[0;34m=\u001b[0m\u001b[0;34m\"image_path\"\u001b[0m\u001b[0;34m,\u001b[0m \u001b[0mhow\u001b[0m\u001b[0;34m=\u001b[0m\u001b[0;34m\"inner\"\u001b[0m\u001b[0;34m)\u001b[0m  \u001b[0;31m# Ensure only valid images are included\u001b[0m\u001b[0;34m\u001b[0m\u001b[0;34m\u001b[0m\u001b[0m\n\u001b[0m\u001b[1;32m     27\u001b[0m \u001b[0;34m\u001b[0m\u001b[0m\n\u001b[1;32m     28\u001b[0m \u001b[0;31m# Function to load and preprocess images\u001b[0m\u001b[0;34m\u001b[0m\u001b[0;34m\u001b[0m\u001b[0m\n",
            "\u001b[0;32m/usr/local/lib/python3.11/dist-packages/pandas/core/frame.py\u001b[0m in \u001b[0;36mmerge\u001b[0;34m(self, right, how, on, left_on, right_on, left_index, right_index, sort, suffixes, copy, indicator, validate)\u001b[0m\n\u001b[1;32m  10830\u001b[0m         \u001b[0;32mfrom\u001b[0m \u001b[0mpandas\u001b[0m\u001b[0;34m.\u001b[0m\u001b[0mcore\u001b[0m\u001b[0;34m.\u001b[0m\u001b[0mreshape\u001b[0m\u001b[0;34m.\u001b[0m\u001b[0mmerge\u001b[0m \u001b[0;32mimport\u001b[0m \u001b[0mmerge\u001b[0m\u001b[0;34m\u001b[0m\u001b[0;34m\u001b[0m\u001b[0m\n\u001b[1;32m  10831\u001b[0m \u001b[0;34m\u001b[0m\u001b[0m\n\u001b[0;32m> 10832\u001b[0;31m         return merge(\n\u001b[0m\u001b[1;32m  10833\u001b[0m             \u001b[0mself\u001b[0m\u001b[0;34m,\u001b[0m\u001b[0;34m\u001b[0m\u001b[0;34m\u001b[0m\u001b[0m\n\u001b[1;32m  10834\u001b[0m             \u001b[0mright\u001b[0m\u001b[0;34m,\u001b[0m\u001b[0;34m\u001b[0m\u001b[0;34m\u001b[0m\u001b[0m\n",
            "\u001b[0;32m/usr/local/lib/python3.11/dist-packages/pandas/core/reshape/merge.py\u001b[0m in \u001b[0;36mmerge\u001b[0;34m(left, right, how, on, left_on, right_on, left_index, right_index, sort, suffixes, copy, indicator, validate)\u001b[0m\n\u001b[1;32m    168\u001b[0m         )\n\u001b[1;32m    169\u001b[0m     \u001b[0;32melse\u001b[0m\u001b[0;34m:\u001b[0m\u001b[0;34m\u001b[0m\u001b[0;34m\u001b[0m\u001b[0m\n\u001b[0;32m--> 170\u001b[0;31m         op = _MergeOperation(\n\u001b[0m\u001b[1;32m    171\u001b[0m             \u001b[0mleft_df\u001b[0m\u001b[0;34m,\u001b[0m\u001b[0;34m\u001b[0m\u001b[0;34m\u001b[0m\u001b[0m\n\u001b[1;32m    172\u001b[0m             \u001b[0mright_df\u001b[0m\u001b[0;34m,\u001b[0m\u001b[0;34m\u001b[0m\u001b[0;34m\u001b[0m\u001b[0m\n",
            "\u001b[0;32m/usr/local/lib/python3.11/dist-packages/pandas/core/reshape/merge.py\u001b[0m in \u001b[0;36m__init__\u001b[0;34m(self, left, right, how, on, left_on, right_on, left_index, right_index, sort, suffixes, indicator, validate)\u001b[0m\n\u001b[1;32m    792\u001b[0m             \u001b[0mleft_drop\u001b[0m\u001b[0;34m,\u001b[0m\u001b[0;34m\u001b[0m\u001b[0;34m\u001b[0m\u001b[0m\n\u001b[1;32m    793\u001b[0m             \u001b[0mright_drop\u001b[0m\u001b[0;34m,\u001b[0m\u001b[0;34m\u001b[0m\u001b[0;34m\u001b[0m\u001b[0m\n\u001b[0;32m--> 794\u001b[0;31m         ) = self._get_merge_keys()\n\u001b[0m\u001b[1;32m    795\u001b[0m \u001b[0;34m\u001b[0m\u001b[0m\n\u001b[1;32m    796\u001b[0m         \u001b[0;32mif\u001b[0m \u001b[0mleft_drop\u001b[0m\u001b[0;34m:\u001b[0m\u001b[0;34m\u001b[0m\u001b[0;34m\u001b[0m\u001b[0m\n",
            "\u001b[0;32m/usr/local/lib/python3.11/dist-packages/pandas/core/reshape/merge.py\u001b[0m in \u001b[0;36m_get_merge_keys\u001b[0;34m(self)\u001b[0m\n\u001b[1;32m   1295\u001b[0m                         \u001b[0mrk\u001b[0m \u001b[0;34m=\u001b[0m \u001b[0mcast\u001b[0m\u001b[0;34m(\u001b[0m\u001b[0mHashable\u001b[0m\u001b[0;34m,\u001b[0m \u001b[0mrk\u001b[0m\u001b[0;34m)\u001b[0m\u001b[0;34m\u001b[0m\u001b[0;34m\u001b[0m\u001b[0m\n\u001b[1;32m   1296\u001b[0m                         \u001b[0;32mif\u001b[0m \u001b[0mrk\u001b[0m \u001b[0;32mis\u001b[0m \u001b[0;32mnot\u001b[0m \u001b[0;32mNone\u001b[0m\u001b[0;34m:\u001b[0m\u001b[0;34m\u001b[0m\u001b[0;34m\u001b[0m\u001b[0m\n\u001b[0;32m-> 1297\u001b[0;31m                             \u001b[0mright_keys\u001b[0m\u001b[0;34m.\u001b[0m\u001b[0mappend\u001b[0m\u001b[0;34m(\u001b[0m\u001b[0mright\u001b[0m\u001b[0;34m.\u001b[0m\u001b[0m_get_label_or_level_values\u001b[0m\u001b[0;34m(\u001b[0m\u001b[0mrk\u001b[0m\u001b[0;34m)\u001b[0m\u001b[0;34m)\u001b[0m\u001b[0;34m\u001b[0m\u001b[0;34m\u001b[0m\u001b[0m\n\u001b[0m\u001b[1;32m   1298\u001b[0m                         \u001b[0;32melse\u001b[0m\u001b[0;34m:\u001b[0m\u001b[0;34m\u001b[0m\u001b[0;34m\u001b[0m\u001b[0m\n\u001b[1;32m   1299\u001b[0m                             \u001b[0;31m# work-around for merge_asof(right_index=True)\u001b[0m\u001b[0;34m\u001b[0m\u001b[0;34m\u001b[0m\u001b[0m\n",
            "\u001b[0;32m/usr/local/lib/python3.11/dist-packages/pandas/core/generic.py\u001b[0m in \u001b[0;36m_get_label_or_level_values\u001b[0;34m(self, key, axis)\u001b[0m\n\u001b[1;32m   1909\u001b[0m             \u001b[0mvalues\u001b[0m \u001b[0;34m=\u001b[0m \u001b[0mself\u001b[0m\u001b[0;34m.\u001b[0m\u001b[0maxes\u001b[0m\u001b[0;34m[\u001b[0m\u001b[0maxis\u001b[0m\u001b[0;34m]\u001b[0m\u001b[0;34m.\u001b[0m\u001b[0mget_level_values\u001b[0m\u001b[0;34m(\u001b[0m\u001b[0mkey\u001b[0m\u001b[0;34m)\u001b[0m\u001b[0;34m.\u001b[0m\u001b[0m_values\u001b[0m\u001b[0;34m\u001b[0m\u001b[0;34m\u001b[0m\u001b[0m\n\u001b[1;32m   1910\u001b[0m         \u001b[0;32melse\u001b[0m\u001b[0;34m:\u001b[0m\u001b[0;34m\u001b[0m\u001b[0;34m\u001b[0m\u001b[0m\n\u001b[0;32m-> 1911\u001b[0;31m             \u001b[0;32mraise\u001b[0m \u001b[0mKeyError\u001b[0m\u001b[0;34m(\u001b[0m\u001b[0mkey\u001b[0m\u001b[0;34m)\u001b[0m\u001b[0;34m\u001b[0m\u001b[0;34m\u001b[0m\u001b[0m\n\u001b[0m\u001b[1;32m   1912\u001b[0m \u001b[0;34m\u001b[0m\u001b[0m\n\u001b[1;32m   1913\u001b[0m         \u001b[0;31m# Check for duplicates\u001b[0m\u001b[0;34m\u001b[0m\u001b[0;34m\u001b[0m\u001b[0m\n",
            "\u001b[0;31mKeyError\u001b[0m: 'image_path'"
          ]
        }
      ]
    },
    {
      "cell_type": "code",
      "source": [
        "import os\n",
        "import pandas as pd\n",
        "import numpy as np\n",
        "import tensorflow as tf\n",
        "import matplotlib.pyplot as plt\n",
        "from tensorflow.keras.preprocessing.image import load_img, img_to_array\n",
        "from sklearn.model_selection import train_test_split\n",
        "from tensorflow.keras.models import Sequential\n",
        "from tensorflow.keras.layers import Conv2D, MaxPooling2D, Flatten, Dense, Dropout\n",
        "from tensorflow.keras.optimizers import Adam\n",
        "from PIL import UnidentifiedImageError\n",
        "\n",
        "# Define image size\n",
        "IMG_SIZE = (224, 224)\n",
        "\n",
        "# Load the updated CSV file\n",
        "csv_path = \"/content/drive/MyDrive/train_images/train.csv\"\n",
        "df = pd.read_csv(csv_path)\n",
        "\n",
        "# Ensure CSV has the correct columns\n",
        "required_columns = {\"Image_Name\", \"Label\", \"Image_Path\"}\n",
        "if not required_columns.issubset(df.columns):\n",
        "    raise ValueError(f\"CSV must contain {required_columns} columns.\")\n",
        "\n",
        "# Function to load and preprocess images\n",
        "def load_and_preprocess_image(Image_Path):\n",
        "    try:\n",
        "        img = load_img(Image_Path, target_size=IMG_SIZE)  # Load image\n",
        "        img_array = img_to_array(img) / 255.0  # Normalize\n",
        "        return img_array\n",
        "    except (FileNotFoundError, UnidentifiedImageError, OSError) as e:\n",
        "        print(f\"Error loading image {Image_Path}: {e}\")\n",
        "        return None\n",
        "\n",
        "# Load images and labels\n",
        "images = [load_and_preprocess_image(img_path) for img_path in df[\"Image_Path\"]]\n",
        "valid_data = [(img, label) for img, label in zip(images, df[\"Label\"]) if img is not None]\n",
        "\n",
        "# Convert to numpy arrays\n",
        "X = np.array([img for img, _ in valid_data])\n",
        "y = np.array([label for _, label in valid_data])\n",
        "\n",
        "print(f\"Loaded {len(X)} valid images out of {len(df)} total.\")\n",
        "\n",
        "# Split data into training and testing sets\n",
        "X_train, X_test, y_train, y_test = train_test_split(X, y, test_size=0.2, random_state=42)\n",
        "\n",
        "print(f\"Training samples: {len(X_train)}, Testing samples: {len(X_test)}\")\n",
        "\n",
        "# Define a simple CNN model\n",
        "model = Sequential([\n",
        "    Conv2D(32, (3,3), activation='relu', input_shape=(224, 224, 3)),\n",
        "    MaxPooling2D(2,2),\n",
        "    Conv2D(64, (3,3), activation='relu'),\n",
        "    MaxPooling2D(2,2),\n",
        "    Flatten(),\n",
        "    Dense(128, activation='relu'),\n",
        "    Dropout(0.5),\n",
        "    Dense(1, activation='linear')  # Regression for blood sugar level\n",
        "])\n",
        "\n",
        "# Compile model\n",
        "model.compile(optimizer=Adam(learning_rate=0.001), loss='mse', metrics=['mae'])\n",
        "\n",
        "# Train model\n",
        "history = model.fit(X_train, y_train, validation_data=(X_test, y_test), epochs=10, batch_size=16)\n",
        "\n",
        "# Save trained model\n",
        "model.save(\"/content/drive/MyDrive/blood_sugar_model.h5\")\n",
        "\n",
        "print(\"Model training complete and saved successfully!\")\n"
      ],
      "metadata": {
        "colab": {
          "base_uri": "https://localhost:8080/",
          "height": 1000
        },
        "id": "N_wwvBY-4gkM",
        "outputId": "feae1d2d-34dd-450d-acc4-16369cdbac43"
      },
      "execution_count": 13,
      "outputs": [
        {
          "output_type": "stream",
          "name": "stdout",
          "text": [
            "Error loading image /content/drive/MyDrive/train_images/7005be54cab1.png: cannot identify image file <_io.BytesIO object at 0x79630d431940>\n",
            "Error loading image /content/drive/MyDrive/train_images/702de9dcde32.png: cannot identify image file <_io.BytesIO object at 0x79630d431940>\n",
            "Error loading image /content/drive/MyDrive/train_images/6fe67fd7f5d1.png: cannot identify image file <_io.BytesIO object at 0x79630d431940>\n",
            "Error loading image /content/drive/MyDrive/train_images/6fe67482bfae.png: cannot identify image file <_io.BytesIO object at 0x79630d431940>\n",
            "Error loading image /content/drive/MyDrive/train_images/70d0392397de.png: cannot identify image file <_io.BytesIO object at 0x79630d431940>\n",
            "Error loading image /content/drive/MyDrive/train_images/70d657f8f503.png: cannot identify image file <_io.BytesIO object at 0x79630d431940>\n",
            "Error loading image /content/drive/MyDrive/train_images/705f508d1e42.png: cannot identify image file <_io.BytesIO object at 0x79630d431940>\n",
            "Error loading image /content/drive/MyDrive/train_images/70ed3ec68b94.png: cannot identify image file <_io.BytesIO object at 0x79630d431940>\n",
            "Error loading image /content/drive/MyDrive/train_images/709784f7fcc2.png: cannot identify image file <_io.BytesIO object at 0x79630d431940>\n",
            "Error loading image /content/drive/MyDrive/train_images/70f5caf5f305.png: cannot identify image file <_io.BytesIO object at 0x79630d431940>\n",
            "Error loading image /content/drive/MyDrive/train_images/7102f29e052e.png: cannot identify image file <_io.BytesIO object at 0x79630d431940>\n",
            "Error loading image /content/drive/MyDrive/train_images/711d1480d2e3.png: cannot identify image file <_io.BytesIO object at 0x79630d431940>\n",
            "Error loading image /content/drive/MyDrive/train_images/710b05a96e0f.png: cannot identify image file <_io.BytesIO object at 0x79630d431940>\n",
            "Error loading image /content/drive/MyDrive/train_images/7131bf4c9e6f.png: cannot identify image file <_io.BytesIO object at 0x79630d431940>\n",
            "Error loading image /content/drive/MyDrive/train_images/7116128c65ab.png: cannot identify image file <_io.BytesIO object at 0x79630d431940>\n",
            "Error loading image /content/drive/MyDrive/train_images/71a39c660432.png: cannot identify image file <_io.BytesIO object at 0x79630d431940>\n",
            "Error loading image /content/drive/MyDrive/train_images/71c1a3cdbe47.png: cannot identify image file <_io.BytesIO object at 0x79630d431940>\n",
            "Error loading image /content/drive/MyDrive/train_images/7179f85bfd6f.png: cannot identify image file <_io.BytesIO object at 0x79630d431940>\n",
            "Error loading image /content/drive/MyDrive/train_images/71e4130bf5c8.png: cannot identify image file <_io.BytesIO object at 0x79630d431940>\n",
            "Error loading image /content/drive/MyDrive/train_images/71e4130bf5c8.png: cannot identify image file <_io.BytesIO object at 0x79630d431940>\n",
            "Error loading image /content/drive/MyDrive/train_images/720b5f62ce80.png: cannot identify image file <_io.BytesIO object at 0x79630d431940>\n",
            "Error loading image /content/drive/MyDrive/train_images/71e43b4f8ba6.png: cannot identify image file <_io.BytesIO object at 0x79630d431940>\n",
            "Error loading image /content/drive/MyDrive/train_images/71f6a6e4620a.png: cannot identify image file <_io.BytesIO object at 0x79630d431940>\n",
            "Error loading image /content/drive/MyDrive/train_images/721214151233.png: cannot identify image file <_io.BytesIO object at 0x79630d431940>\n",
            "Error loading image /content/drive/MyDrive/train_images/7247a2c97f71.png: cannot identify image file <_io.BytesIO object at 0x79630d431940>\n",
            "Error loading image /content/drive/MyDrive/train_images/7214fc7cbe03.png: cannot identify image file <_io.BytesIO object at 0x79630d431940>\n",
            "Error loading image /content/drive/MyDrive/train_images/72595230840c.png: cannot identify image file <_io.BytesIO object at 0x79630d431940>\n",
            "Error loading image /content/drive/MyDrive/train_images/7269a1d84a57.png: cannot identify image file <_io.BytesIO object at 0x79630d431940>\n",
            "Error loading image /content/drive/MyDrive/train_images/72606afaf3da.png: cannot identify image file <_io.BytesIO object at 0x79630d431940>\n",
            "Error loading image /content/drive/MyDrive/train_images/72a867980067.png: cannot identify image file <_io.BytesIO object at 0x79630d431940>\n",
            "Error loading image /content/drive/MyDrive/train_images/72c31aa48e2c.png: cannot identify image file <_io.BytesIO object at 0x79630d431940>\n",
            "Error loading image /content/drive/MyDrive/train_images/726dff37edc0.png: cannot identify image file <_io.BytesIO object at 0x79630d431940>\n",
            "Error loading image /content/drive/MyDrive/train_images/72d98188648f.png: cannot identify image file <_io.BytesIO object at 0x79630d431940>\n",
            "Error loading image /content/drive/MyDrive/train_images/7270367410a1.png: cannot identify image file <_io.BytesIO object at 0x79630d431940>\n",
            "Error loading image /content/drive/MyDrive/train_images/7335a2d43ada.png: cannot identify image file <_io.BytesIO object at 0x79630d431940>\n",
            "Error loading image /content/drive/MyDrive/train_images/731b19a460ad.png: cannot identify image file <_io.BytesIO object at 0x79630d431940>\n",
            "Error loading image /content/drive/MyDrive/train_images/7347bd23ba80.png: cannot identify image file <_io.BytesIO object at 0x79630d431940>\n",
            "Error loading image /content/drive/MyDrive/train_images/7347f5133a6a.png: cannot identify image file <_io.BytesIO object at 0x79630d431940>\n",
            "Error loading image /content/drive/MyDrive/train_images/7350c50667c5.png: cannot identify image file <_io.BytesIO object at 0x79630d431940>\n",
            "Error loading image /content/drive/MyDrive/train_images/7356dd08b0ae.png: cannot identify image file <_io.BytesIO object at 0x79630d431940>\n",
            "Error loading image /content/drive/MyDrive/train_images/735836b1ffa6.png: cannot identify image file <_io.BytesIO object at 0x79630d431940>\n",
            "Error loading image /content/drive/MyDrive/train_images/73ba798fee25.png: cannot identify image file <_io.BytesIO object at 0x79630d40e5c0>\n",
            "Error loading image /content/drive/MyDrive/train_images/73881f55a3ec.png: cannot identify image file <_io.BytesIO object at 0x79630d40e5c0>\n",
            "Error loading image /content/drive/MyDrive/train_images/73a07e2ea23e.png: cannot identify image file <_io.BytesIO object at 0x79630d40e5c0>\n",
            "Error loading image /content/drive/MyDrive/train_images/737ef6226677.png: cannot identify image file <_io.BytesIO object at 0x79630d40e5c0>\n",
            "Error loading image /content/drive/MyDrive/train_images/73e83a07a16d.png: cannot identify image file <_io.BytesIO object at 0x79630d40e5c0>\n",
            "Error loading image /content/drive/MyDrive/train_images/73ef3c3dcbe4.png: cannot identify image file <_io.BytesIO object at 0x79630d40e5c0>\n",
            "Error loading image /content/drive/MyDrive/train_images/73d40ce06a67.png: cannot identify image file <_io.BytesIO object at 0x79630d40e5c0>\n",
            "Error loading image /content/drive/MyDrive/train_images/74211a2b6dcf.png: cannot identify image file <_io.BytesIO object at 0x79630d40e5c0>\n",
            "Error loading image /content/drive/MyDrive/train_images/7427dedafccf.png: cannot identify image file <_io.BytesIO object at 0x79630d40e5c0>\n",
            "Error loading image /content/drive/MyDrive/train_images/74418f620068.png: cannot identify image file <_io.BytesIO object at 0x79630d40e5c0>\n",
            "Error loading image /content/drive/MyDrive/train_images/7435e9a3e36e.png: cannot identify image file <_io.BytesIO object at 0x79630d40e5c0>\n",
            "Error loading image /content/drive/MyDrive/train_images/7455e2b5fc57.png: cannot identify image file <_io.BytesIO object at 0x79630d40e5c0>\n",
            "Error loading image /content/drive/MyDrive/train_images/74898f372d2b.png: cannot identify image file <_io.BytesIO object at 0x79630d40e5c0>\n",
            "Error loading image /content/drive/MyDrive/train_images/7526c59c36d3.png: cannot identify image file <_io.BytesIO object at 0x79630d40e5c0>\n",
            "Error loading image /content/drive/MyDrive/train_images/750e0168399d.png: cannot identify image file <_io.BytesIO object at 0x79630cb07dd0>\n",
            "Error loading image /content/drive/MyDrive/train_images/75238d945315.png: cannot identify image file <_io.BytesIO object at 0x79630cb07dd0>\n",
            "Error loading image /content/drive/MyDrive/train_images/7526cf435753.png: cannot identify image file <_io.BytesIO object at 0x79630cb07dd0>\n",
            "Error loading image /content/drive/MyDrive/train_images/74eee788edee.png: cannot identify image file <_io.BytesIO object at 0x79630cb07dd0>\n",
            "Error loading image /content/drive/MyDrive/train_images/7525ebb3434d.png: cannot identify image file <_io.BytesIO object at 0x79630cb07dd0>\n",
            "Error loading image /content/drive/MyDrive/train_images/7550966ef777.png: cannot identify image file <_io.BytesIO object at 0x79630cb07dd0>\n",
            "Error loading image /content/drive/MyDrive/train_images/75369248dba0.png: cannot identify image file <_io.BytesIO object at 0x79630cb07dd0>\n",
            "Error loading image /content/drive/MyDrive/train_images/753b14c27c83.png: cannot identify image file <_io.BytesIO object at 0x79630cb07dd0>\n",
            "Error loading image /content/drive/MyDrive/train_images/7569ac24762e.png: cannot identify image file <_io.BytesIO object at 0x79630cb07dd0>\n",
            "Loaded 0 valid images out of 64 total.\n"
          ]
        },
        {
          "output_type": "error",
          "ename": "ValueError",
          "evalue": "With n_samples=0, test_size=0.2 and train_size=None, the resulting train set will be empty. Adjust any of the aforementioned parameters.",
          "traceback": [
            "\u001b[0;31m---------------------------------------------------------------------------\u001b[0m",
            "\u001b[0;31mValueError\u001b[0m                                Traceback (most recent call last)",
            "\u001b[0;32m<ipython-input-13-ccb3da72329a>\u001b[0m in \u001b[0;36m<cell line: 0>\u001b[0;34m()\u001b[0m\n\u001b[1;32m     44\u001b[0m \u001b[0;34m\u001b[0m\u001b[0m\n\u001b[1;32m     45\u001b[0m \u001b[0;31m# Split data into training and testing sets\u001b[0m\u001b[0;34m\u001b[0m\u001b[0;34m\u001b[0m\u001b[0m\n\u001b[0;32m---> 46\u001b[0;31m \u001b[0mX_train\u001b[0m\u001b[0;34m,\u001b[0m \u001b[0mX_test\u001b[0m\u001b[0;34m,\u001b[0m \u001b[0my_train\u001b[0m\u001b[0;34m,\u001b[0m \u001b[0my_test\u001b[0m \u001b[0;34m=\u001b[0m \u001b[0mtrain_test_split\u001b[0m\u001b[0;34m(\u001b[0m\u001b[0mX\u001b[0m\u001b[0;34m,\u001b[0m \u001b[0my\u001b[0m\u001b[0;34m,\u001b[0m \u001b[0mtest_size\u001b[0m\u001b[0;34m=\u001b[0m\u001b[0;36m0.2\u001b[0m\u001b[0;34m,\u001b[0m \u001b[0mrandom_state\u001b[0m\u001b[0;34m=\u001b[0m\u001b[0;36m42\u001b[0m\u001b[0;34m)\u001b[0m\u001b[0;34m\u001b[0m\u001b[0;34m\u001b[0m\u001b[0m\n\u001b[0m\u001b[1;32m     47\u001b[0m \u001b[0;34m\u001b[0m\u001b[0m\n\u001b[1;32m     48\u001b[0m \u001b[0mprint\u001b[0m\u001b[0;34m(\u001b[0m\u001b[0;34mf\"Training samples: {len(X_train)}, Testing samples: {len(X_test)}\"\u001b[0m\u001b[0;34m)\u001b[0m\u001b[0;34m\u001b[0m\u001b[0;34m\u001b[0m\u001b[0m\n",
            "\u001b[0;32m/usr/local/lib/python3.11/dist-packages/sklearn/utils/_param_validation.py\u001b[0m in \u001b[0;36mwrapper\u001b[0;34m(*args, **kwargs)\u001b[0m\n\u001b[1;32m    214\u001b[0m                     )\n\u001b[1;32m    215\u001b[0m                 ):\n\u001b[0;32m--> 216\u001b[0;31m                     \u001b[0;32mreturn\u001b[0m \u001b[0mfunc\u001b[0m\u001b[0;34m(\u001b[0m\u001b[0;34m*\u001b[0m\u001b[0margs\u001b[0m\u001b[0;34m,\u001b[0m \u001b[0;34m**\u001b[0m\u001b[0mkwargs\u001b[0m\u001b[0;34m)\u001b[0m\u001b[0;34m\u001b[0m\u001b[0;34m\u001b[0m\u001b[0m\n\u001b[0m\u001b[1;32m    217\u001b[0m             \u001b[0;32mexcept\u001b[0m \u001b[0mInvalidParameterError\u001b[0m \u001b[0;32mas\u001b[0m \u001b[0me\u001b[0m\u001b[0;34m:\u001b[0m\u001b[0;34m\u001b[0m\u001b[0;34m\u001b[0m\u001b[0m\n\u001b[1;32m    218\u001b[0m                 \u001b[0;31m# When the function is just a wrapper around an estimator, we allow\u001b[0m\u001b[0;34m\u001b[0m\u001b[0;34m\u001b[0m\u001b[0m\n",
            "\u001b[0;32m/usr/local/lib/python3.11/dist-packages/sklearn/model_selection/_split.py\u001b[0m in \u001b[0;36mtrain_test_split\u001b[0;34m(test_size, train_size, random_state, shuffle, stratify, *arrays)\u001b[0m\n\u001b[1;32m   2849\u001b[0m \u001b[0;34m\u001b[0m\u001b[0m\n\u001b[1;32m   2850\u001b[0m     \u001b[0mn_samples\u001b[0m \u001b[0;34m=\u001b[0m \u001b[0m_num_samples\u001b[0m\u001b[0;34m(\u001b[0m\u001b[0marrays\u001b[0m\u001b[0;34m[\u001b[0m\u001b[0;36m0\u001b[0m\u001b[0;34m]\u001b[0m\u001b[0;34m)\u001b[0m\u001b[0;34m\u001b[0m\u001b[0;34m\u001b[0m\u001b[0m\n\u001b[0;32m-> 2851\u001b[0;31m     n_train, n_test = _validate_shuffle_split(\n\u001b[0m\u001b[1;32m   2852\u001b[0m         \u001b[0mn_samples\u001b[0m\u001b[0;34m,\u001b[0m \u001b[0mtest_size\u001b[0m\u001b[0;34m,\u001b[0m \u001b[0mtrain_size\u001b[0m\u001b[0;34m,\u001b[0m \u001b[0mdefault_test_size\u001b[0m\u001b[0;34m=\u001b[0m\u001b[0;36m0.25\u001b[0m\u001b[0;34m\u001b[0m\u001b[0;34m\u001b[0m\u001b[0m\n\u001b[1;32m   2853\u001b[0m     )\n",
            "\u001b[0;32m/usr/local/lib/python3.11/dist-packages/sklearn/model_selection/_split.py\u001b[0m in \u001b[0;36m_validate_shuffle_split\u001b[0;34m(n_samples, test_size, train_size, default_test_size)\u001b[0m\n\u001b[1;32m   2479\u001b[0m \u001b[0;34m\u001b[0m\u001b[0m\n\u001b[1;32m   2480\u001b[0m     \u001b[0;32mif\u001b[0m \u001b[0mn_train\u001b[0m \u001b[0;34m==\u001b[0m \u001b[0;36m0\u001b[0m\u001b[0;34m:\u001b[0m\u001b[0;34m\u001b[0m\u001b[0;34m\u001b[0m\u001b[0m\n\u001b[0;32m-> 2481\u001b[0;31m         raise ValueError(\n\u001b[0m\u001b[1;32m   2482\u001b[0m             \u001b[0;34m\"With n_samples={}, test_size={} and train_size={}, the \"\u001b[0m\u001b[0;34m\u001b[0m\u001b[0;34m\u001b[0m\u001b[0m\n\u001b[1;32m   2483\u001b[0m             \u001b[0;34m\"resulting train set will be empty. Adjust any of the \"\u001b[0m\u001b[0;34m\u001b[0m\u001b[0;34m\u001b[0m\u001b[0m\n",
            "\u001b[0;31mValueError\u001b[0m: With n_samples=0, test_size=0.2 and train_size=None, the resulting train set will be empty. Adjust any of the aforementioned parameters."
          ]
        }
      ]
    },
    {
      "cell_type": "code",
      "source": [
        "import os\n",
        "print(os.path.exists('/content/drive/MyDrive/train_images/train.csv'))\n"
      ],
      "metadata": {
        "id": "uL85dj-RBoal",
        "outputId": "887625ed-1234-454a-d8d6-82bef60ba3dd",
        "colab": {
          "base_uri": "https://localhost:8080/"
        }
      },
      "execution_count": 14,
      "outputs": [
        {
          "output_type": "stream",
          "name": "stdout",
          "text": [
            "True\n"
          ]
        }
      ]
    },
    {
      "cell_type": "code",
      "source": [
        "import imghdr\n",
        "img_path = \"/content/drive/MyDrive/train_images/7005be54cab1.png\"\n",
        "print(imghdr.what(img_path))  # Should return 'png', 'jpeg', etc.\n",
        "\n"
      ],
      "metadata": {
        "id": "pJLRQ8GxBr8d",
        "outputId": "a4248a29-150e-4182-a9ac-cd1d9b10e9d4",
        "colab": {
          "base_uri": "https://localhost:8080/"
        }
      },
      "execution_count": 15,
      "outputs": [
        {
          "output_type": "stream",
          "name": "stdout",
          "text": [
            "None\n"
          ]
        },
        {
          "output_type": "stream",
          "name": "stderr",
          "text": [
            "<ipython-input-15-70143c1439f9>:1: DeprecationWarning: 'imghdr' is deprecated and slated for removal in Python 3.13\n",
            "  import imghdr\n"
          ]
        }
      ]
    },
    {
      "cell_type": "code",
      "source": [
        "import os\n",
        "from PIL import Image\n",
        "\n",
        "image_dir = \"/content/drive/MyDrive/train_images\"\n",
        "invalid_images = []\n",
        "\n",
        "for filename in os.listdir(image_dir):\n",
        "    file_path = os.path.join(image_dir, filename)\n",
        "    try:\n",
        "        with Image.open(file_path) as img:\n",
        "            img.verify()  # Verify if the image is valid\n",
        "    except Exception as e:\n",
        "        invalid_images.append(file_path)\n",
        "\n",
        "print(f\"Invalid images: {len(invalid_images)}\")\n",
        "if invalid_images:\n",
        "    print(\"Removing invalid images...\")\n",
        "    for img in invalid_images:\n",
        "        os.remove(img)  # Remove corrupted images\n",
        "    print(\"Invalid images removed.\")\n",
        "else:\n",
        "    print(\"All images are valid.\")\n"
      ],
      "metadata": {
        "id": "_QHr8pvuB9FK",
        "outputId": "2423a6df-5a4f-4557-c7de-5a5e8d447775",
        "colab": {
          "base_uri": "https://localhost:8080/",
          "height": 245
        }
      },
      "execution_count": 18,
      "outputs": [
        {
          "output_type": "stream",
          "name": "stdout",
          "text": [
            "Invalid images: 3\n",
            "Removing invalid images...\n"
          ]
        },
        {
          "output_type": "error",
          "ename": "IsADirectoryError",
          "evalue": "[Errno 21] Is a directory: '/content/drive/MyDrive/train_images/train_images'",
          "traceback": [
            "\u001b[0;31m---------------------------------------------------------------------------\u001b[0m",
            "\u001b[0;31mIsADirectoryError\u001b[0m                         Traceback (most recent call last)",
            "\u001b[0;32m<ipython-input-18-da2ca3eed280>\u001b[0m in \u001b[0;36m<cell line: 0>\u001b[0;34m()\u001b[0m\n\u001b[1;32m     17\u001b[0m     \u001b[0mprint\u001b[0m\u001b[0;34m(\u001b[0m\u001b[0;34m\"Removing invalid images...\"\u001b[0m\u001b[0;34m)\u001b[0m\u001b[0;34m\u001b[0m\u001b[0;34m\u001b[0m\u001b[0m\n\u001b[1;32m     18\u001b[0m     \u001b[0;32mfor\u001b[0m \u001b[0mimg\u001b[0m \u001b[0;32min\u001b[0m \u001b[0minvalid_images\u001b[0m\u001b[0;34m:\u001b[0m\u001b[0;34m\u001b[0m\u001b[0;34m\u001b[0m\u001b[0m\n\u001b[0;32m---> 19\u001b[0;31m         \u001b[0mos\u001b[0m\u001b[0;34m.\u001b[0m\u001b[0mremove\u001b[0m\u001b[0;34m(\u001b[0m\u001b[0mimg\u001b[0m\u001b[0;34m)\u001b[0m  \u001b[0;31m# Remove corrupted images\u001b[0m\u001b[0;34m\u001b[0m\u001b[0;34m\u001b[0m\u001b[0m\n\u001b[0m\u001b[1;32m     20\u001b[0m     \u001b[0mprint\u001b[0m\u001b[0;34m(\u001b[0m\u001b[0;34m\"Invalid images removed.\"\u001b[0m\u001b[0;34m)\u001b[0m\u001b[0;34m\u001b[0m\u001b[0;34m\u001b[0m\u001b[0m\n\u001b[1;32m     21\u001b[0m \u001b[0;32melse\u001b[0m\u001b[0;34m:\u001b[0m\u001b[0;34m\u001b[0m\u001b[0;34m\u001b[0m\u001b[0m\n",
            "\u001b[0;31mIsADirectoryError\u001b[0m: [Errno 21] Is a directory: '/content/drive/MyDrive/train_images/train_images'"
          ]
        }
      ]
    },
    {
      "cell_type": "code",
      "source": [
        "import os\n",
        "from PIL import Image\n",
        "\n",
        "def convert_images(image_dir):\n",
        "    for filename in os.listdir(image_dir):\n",
        "        file_path = os.path.join(image_dir, filename)\n",
        "        try:\n",
        "            with Image.open(file_path) as img:\n",
        "                img.convert(\"RGB\").save(file_path, \"PNG\")  # Save as PNG\n",
        "        except Exception as e:\n",
        "            print(f\"Skipping {filename}: {e}\")\n",
        "\n",
        "image_dir = \"/content/drive/MyDrive/train_images\"\n",
        "convert_images(image_dir)\n",
        "print(\"Image conversion complete.\")\n"
      ],
      "metadata": {
        "id": "Wa3vpGxpCTfv",
        "outputId": "7ce994b0-8c2a-43c9-e29e-f448e10e58a8",
        "colab": {
          "base_uri": "https://localhost:8080/"
        }
      },
      "execution_count": 8,
      "outputs": [
        {
          "output_type": "stream",
          "name": "stdout",
          "text": [
            "Skipping train_images: [Errno 21] Is a directory: '/content/drive/MyDrive/train_images/train_images'\n",
            "Skipping train.gsheet: [Errno 95] Operation not supported: '/content/drive/MyDrive/train_images/train.gsheet'\n",
            "Skipping train.csv: cannot identify image file '/content/drive/MyDrive/train_images/train.csv'\n",
            "Image conversion complete.\n"
          ]
        }
      ]
    },
    {
      "cell_type": "code",
      "source": [
        "from google.colab import drive\n",
        "drive.mount('/content/drive')\n"
      ],
      "metadata": {
        "id": "EI0n6Hy_D74i",
        "outputId": "a4269045-7346-4a01-d126-ee4ffa88964f",
        "colab": {
          "base_uri": "https://localhost:8080/"
        }
      },
      "execution_count": 4,
      "outputs": [
        {
          "output_type": "stream",
          "name": "stdout",
          "text": [
            "Mounted at /content/drive\n"
          ]
        }
      ]
    },
    {
      "cell_type": "code",
      "source": [
        "import pandas as pd\n",
        "\n",
        "df = pd.read_csv(\"/content/drive/MyDrive/train_images/train.csv\")  # Load CSV file\n",
        "\n",
        "print(int(df[\"Image_Path\"].isnull().sum()))  # Count missing values\n"
      ],
      "metadata": {
        "colab": {
          "base_uri": "https://localhost:8080/",
          "height": 356
        },
        "id": "aopuEMPE9ILN",
        "outputId": "1137f325-485f-4569-954d-26ce116d22df"
      },
      "execution_count": 2,
      "outputs": [
        {
          "output_type": "error",
          "ename": "FileNotFoundError",
          "evalue": "[Errno 2] No such file or directory: '/content/drive/MyDrive/train_images/train.csv'",
          "traceback": [
            "\u001b[0;31m---------------------------------------------------------------------------\u001b[0m",
            "\u001b[0;31mFileNotFoundError\u001b[0m                         Traceback (most recent call last)",
            "\u001b[0;32m<ipython-input-2-0131a6d4e215>\u001b[0m in \u001b[0;36m<cell line: 0>\u001b[0;34m()\u001b[0m\n\u001b[1;32m      1\u001b[0m \u001b[0;32mimport\u001b[0m \u001b[0mpandas\u001b[0m \u001b[0;32mas\u001b[0m \u001b[0mpd\u001b[0m\u001b[0;34m\u001b[0m\u001b[0;34m\u001b[0m\u001b[0m\n\u001b[1;32m      2\u001b[0m \u001b[0;34m\u001b[0m\u001b[0m\n\u001b[0;32m----> 3\u001b[0;31m \u001b[0mdf\u001b[0m \u001b[0;34m=\u001b[0m \u001b[0mpd\u001b[0m\u001b[0;34m.\u001b[0m\u001b[0mread_csv\u001b[0m\u001b[0;34m(\u001b[0m\u001b[0;34m\"/content/drive/MyDrive/train_images/train.csv\"\u001b[0m\u001b[0;34m)\u001b[0m  \u001b[0;31m# Load CSV file\u001b[0m\u001b[0;34m\u001b[0m\u001b[0;34m\u001b[0m\u001b[0m\n\u001b[0m\u001b[1;32m      4\u001b[0m \u001b[0;34m\u001b[0m\u001b[0m\n\u001b[1;32m      5\u001b[0m \u001b[0mprint\u001b[0m\u001b[0;34m(\u001b[0m\u001b[0mint\u001b[0m\u001b[0;34m(\u001b[0m\u001b[0mdf\u001b[0m\u001b[0;34m[\u001b[0m\u001b[0;34m\"Image_Path\"\u001b[0m\u001b[0;34m]\u001b[0m\u001b[0;34m.\u001b[0m\u001b[0misnull\u001b[0m\u001b[0;34m(\u001b[0m\u001b[0;34m)\u001b[0m\u001b[0;34m.\u001b[0m\u001b[0msum\u001b[0m\u001b[0;34m(\u001b[0m\u001b[0;34m)\u001b[0m\u001b[0;34m)\u001b[0m\u001b[0;34m)\u001b[0m  \u001b[0;31m# Count missing values\u001b[0m\u001b[0;34m\u001b[0m\u001b[0;34m\u001b[0m\u001b[0m\n",
            "\u001b[0;32m/usr/local/lib/python3.11/dist-packages/pandas/io/parsers/readers.py\u001b[0m in \u001b[0;36mread_csv\u001b[0;34m(filepath_or_buffer, sep, delimiter, header, names, index_col, usecols, dtype, engine, converters, true_values, false_values, skipinitialspace, skiprows, skipfooter, nrows, na_values, keep_default_na, na_filter, verbose, skip_blank_lines, parse_dates, infer_datetime_format, keep_date_col, date_parser, date_format, dayfirst, cache_dates, iterator, chunksize, compression, thousands, decimal, lineterminator, quotechar, quoting, doublequote, escapechar, comment, encoding, encoding_errors, dialect, on_bad_lines, delim_whitespace, low_memory, memory_map, float_precision, storage_options, dtype_backend)\u001b[0m\n\u001b[1;32m   1024\u001b[0m     \u001b[0mkwds\u001b[0m\u001b[0;34m.\u001b[0m\u001b[0mupdate\u001b[0m\u001b[0;34m(\u001b[0m\u001b[0mkwds_defaults\u001b[0m\u001b[0;34m)\u001b[0m\u001b[0;34m\u001b[0m\u001b[0;34m\u001b[0m\u001b[0m\n\u001b[1;32m   1025\u001b[0m \u001b[0;34m\u001b[0m\u001b[0m\n\u001b[0;32m-> 1026\u001b[0;31m     \u001b[0;32mreturn\u001b[0m \u001b[0m_read\u001b[0m\u001b[0;34m(\u001b[0m\u001b[0mfilepath_or_buffer\u001b[0m\u001b[0;34m,\u001b[0m \u001b[0mkwds\u001b[0m\u001b[0;34m)\u001b[0m\u001b[0;34m\u001b[0m\u001b[0;34m\u001b[0m\u001b[0m\n\u001b[0m\u001b[1;32m   1027\u001b[0m \u001b[0;34m\u001b[0m\u001b[0m\n\u001b[1;32m   1028\u001b[0m \u001b[0;34m\u001b[0m\u001b[0m\n",
            "\u001b[0;32m/usr/local/lib/python3.11/dist-packages/pandas/io/parsers/readers.py\u001b[0m in \u001b[0;36m_read\u001b[0;34m(filepath_or_buffer, kwds)\u001b[0m\n\u001b[1;32m    618\u001b[0m \u001b[0;34m\u001b[0m\u001b[0m\n\u001b[1;32m    619\u001b[0m     \u001b[0;31m# Create the parser.\u001b[0m\u001b[0;34m\u001b[0m\u001b[0;34m\u001b[0m\u001b[0m\n\u001b[0;32m--> 620\u001b[0;31m     \u001b[0mparser\u001b[0m \u001b[0;34m=\u001b[0m \u001b[0mTextFileReader\u001b[0m\u001b[0;34m(\u001b[0m\u001b[0mfilepath_or_buffer\u001b[0m\u001b[0;34m,\u001b[0m \u001b[0;34m**\u001b[0m\u001b[0mkwds\u001b[0m\u001b[0;34m)\u001b[0m\u001b[0;34m\u001b[0m\u001b[0;34m\u001b[0m\u001b[0m\n\u001b[0m\u001b[1;32m    621\u001b[0m \u001b[0;34m\u001b[0m\u001b[0m\n\u001b[1;32m    622\u001b[0m     \u001b[0;32mif\u001b[0m \u001b[0mchunksize\u001b[0m \u001b[0;32mor\u001b[0m \u001b[0miterator\u001b[0m\u001b[0;34m:\u001b[0m\u001b[0;34m\u001b[0m\u001b[0;34m\u001b[0m\u001b[0m\n",
            "\u001b[0;32m/usr/local/lib/python3.11/dist-packages/pandas/io/parsers/readers.py\u001b[0m in \u001b[0;36m__init__\u001b[0;34m(self, f, engine, **kwds)\u001b[0m\n\u001b[1;32m   1618\u001b[0m \u001b[0;34m\u001b[0m\u001b[0m\n\u001b[1;32m   1619\u001b[0m         \u001b[0mself\u001b[0m\u001b[0;34m.\u001b[0m\u001b[0mhandles\u001b[0m\u001b[0;34m:\u001b[0m \u001b[0mIOHandles\u001b[0m \u001b[0;34m|\u001b[0m \u001b[0;32mNone\u001b[0m \u001b[0;34m=\u001b[0m \u001b[0;32mNone\u001b[0m\u001b[0;34m\u001b[0m\u001b[0;34m\u001b[0m\u001b[0m\n\u001b[0;32m-> 1620\u001b[0;31m         \u001b[0mself\u001b[0m\u001b[0;34m.\u001b[0m\u001b[0m_engine\u001b[0m \u001b[0;34m=\u001b[0m \u001b[0mself\u001b[0m\u001b[0;34m.\u001b[0m\u001b[0m_make_engine\u001b[0m\u001b[0;34m(\u001b[0m\u001b[0mf\u001b[0m\u001b[0;34m,\u001b[0m \u001b[0mself\u001b[0m\u001b[0;34m.\u001b[0m\u001b[0mengine\u001b[0m\u001b[0;34m)\u001b[0m\u001b[0;34m\u001b[0m\u001b[0;34m\u001b[0m\u001b[0m\n\u001b[0m\u001b[1;32m   1621\u001b[0m \u001b[0;34m\u001b[0m\u001b[0m\n\u001b[1;32m   1622\u001b[0m     \u001b[0;32mdef\u001b[0m \u001b[0mclose\u001b[0m\u001b[0;34m(\u001b[0m\u001b[0mself\u001b[0m\u001b[0;34m)\u001b[0m \u001b[0;34m->\u001b[0m \u001b[0;32mNone\u001b[0m\u001b[0;34m:\u001b[0m\u001b[0;34m\u001b[0m\u001b[0;34m\u001b[0m\u001b[0m\n",
            "\u001b[0;32m/usr/local/lib/python3.11/dist-packages/pandas/io/parsers/readers.py\u001b[0m in \u001b[0;36m_make_engine\u001b[0;34m(self, f, engine)\u001b[0m\n\u001b[1;32m   1878\u001b[0m                 \u001b[0;32mif\u001b[0m \u001b[0;34m\"b\"\u001b[0m \u001b[0;32mnot\u001b[0m \u001b[0;32min\u001b[0m \u001b[0mmode\u001b[0m\u001b[0;34m:\u001b[0m\u001b[0;34m\u001b[0m\u001b[0;34m\u001b[0m\u001b[0m\n\u001b[1;32m   1879\u001b[0m                     \u001b[0mmode\u001b[0m \u001b[0;34m+=\u001b[0m \u001b[0;34m\"b\"\u001b[0m\u001b[0;34m\u001b[0m\u001b[0;34m\u001b[0m\u001b[0m\n\u001b[0;32m-> 1880\u001b[0;31m             self.handles = get_handle(\n\u001b[0m\u001b[1;32m   1881\u001b[0m                 \u001b[0mf\u001b[0m\u001b[0;34m,\u001b[0m\u001b[0;34m\u001b[0m\u001b[0;34m\u001b[0m\u001b[0m\n\u001b[1;32m   1882\u001b[0m                 \u001b[0mmode\u001b[0m\u001b[0;34m,\u001b[0m\u001b[0;34m\u001b[0m\u001b[0;34m\u001b[0m\u001b[0m\n",
            "\u001b[0;32m/usr/local/lib/python3.11/dist-packages/pandas/io/common.py\u001b[0m in \u001b[0;36mget_handle\u001b[0;34m(path_or_buf, mode, encoding, compression, memory_map, is_text, errors, storage_options)\u001b[0m\n\u001b[1;32m    871\u001b[0m         \u001b[0;32mif\u001b[0m \u001b[0mioargs\u001b[0m\u001b[0;34m.\u001b[0m\u001b[0mencoding\u001b[0m \u001b[0;32mand\u001b[0m \u001b[0;34m\"b\"\u001b[0m \u001b[0;32mnot\u001b[0m \u001b[0;32min\u001b[0m \u001b[0mioargs\u001b[0m\u001b[0;34m.\u001b[0m\u001b[0mmode\u001b[0m\u001b[0;34m:\u001b[0m\u001b[0;34m\u001b[0m\u001b[0;34m\u001b[0m\u001b[0m\n\u001b[1;32m    872\u001b[0m             \u001b[0;31m# Encoding\u001b[0m\u001b[0;34m\u001b[0m\u001b[0;34m\u001b[0m\u001b[0m\n\u001b[0;32m--> 873\u001b[0;31m             handle = open(\n\u001b[0m\u001b[1;32m    874\u001b[0m                 \u001b[0mhandle\u001b[0m\u001b[0;34m,\u001b[0m\u001b[0;34m\u001b[0m\u001b[0;34m\u001b[0m\u001b[0m\n\u001b[1;32m    875\u001b[0m                 \u001b[0mioargs\u001b[0m\u001b[0;34m.\u001b[0m\u001b[0mmode\u001b[0m\u001b[0;34m,\u001b[0m\u001b[0;34m\u001b[0m\u001b[0;34m\u001b[0m\u001b[0m\n",
            "\u001b[0;31mFileNotFoundError\u001b[0m: [Errno 2] No such file or directory: '/content/drive/MyDrive/train_images/train.csv'"
          ]
        }
      ]
    },
    {
      "cell_type": "code",
      "source": [
        "import pandas as pd\n",
        "\n",
        "# Load the CSV file\n",
        "csv_path = \"/content/drive/MyDrive/train_images/train.csv\"\n",
        "df = pd.read_csv(csv_path)\n",
        "\n",
        "# Check for missing values in the 'Image_Path' column\n",
        "missing_count = df[\"Image_Path\"].isnull().sum()\n",
        "print(f\"Missing Image Paths: {int(missing_count)}\")\n"
      ],
      "metadata": {
        "id": "DwIFxCLzAzaC",
        "outputId": "8afe72b4-2b26-4adb-82dc-2792de30e30a",
        "colab": {
          "base_uri": "https://localhost:8080/"
        }
      },
      "execution_count": 11,
      "outputs": [
        {
          "output_type": "stream",
          "name": "stdout",
          "text": [
            "Missing Image Paths: 0\n"
          ]
        }
      ]
    },
    {
      "cell_type": "code",
      "source": [
        "import os\n",
        "\n",
        "path = \"/content/drive/MyDrive/train_images/\"\n",
        "print(\"Files in directory:\", os.listdir(path))\n"
      ],
      "metadata": {
        "id": "kS7hPELeBDva",
        "outputId": "243c8d10-e71d-40a7-9bd1-7f2808a464fb",
        "colab": {
          "base_uri": "https://localhost:8080/"
        }
      },
      "execution_count": 10,
      "outputs": [
        {
          "output_type": "stream",
          "name": "stdout",
          "text": [
            "Files in directory: ['7005be54cab1.png', '702de9dcde32.png', '6fe67fd7f5d1.png', '6fe67482bfae.png', '70d0392397de.png', '70d657f8f503.png', '705f508d1e42.png', '70ed3ec68b94.png', '709784f7fcc2.png', '70f5caf5f305.png', '7102f29e052e.png', '711d1480d2e3.png', '710b05a96e0f.png', '7131bf4c9e6f.png', '7116128c65ab.png', '71a39c660432.png', '71c1a3cdbe47.png', '7179f85bfd6f.png', '71c22da3d6c6.png', '71e4130bf5c8.png', '720b5f62ce80.png', '71e43b4f8ba6.png', '71f6a6e4620a.png', '721214151233.png', '7247a2c97f71.png', '7214fc7cbe03.png', '72595230840c.png', '7269a1d84a57.png', '72606afaf3da.png', '72a867980067.png', '72c31aa48e2c.png', '726dff37edc0.png', '72d98188648f.png', '7270367410a1.png', '7335a2d43ada.png', '731b19a460ad.png', '7347bd23ba80.png', '7347f5133a6a.png', '7350c50667c5.png', '7356dd08b0ae.png', '735836b1ffa6.png', '73ba798fee25.png', '73881f55a3ec.png', '73a07e2ea23e.png', '737ef6226677.png', '73e83a07a16d.png', '73ef3c3dcbe4.png', '73d40ce06a67.png', '74211a2b6dcf.png', '7427dedafccf.png', '74418f620068.png', '7435e9a3e36e.png', '7455e2b5fc57.png', '74898f372d2b.png', '7526c59c36d3.png', '750e0168399d.png', '75238d945315.png', '7526cf435753.png', '74eee788edee.png', '7525ebb3434d.png', '7550966ef777.png', '75369248dba0.png', '753b14c27c83.png', '7569ac24762e.png', 'train_images', 'train.gsheet', 'train.csv']\n"
          ]
        }
      ]
    },
    {
      "cell_type": "code",
      "source": [
        "import os\n",
        "from PIL import Image\n",
        "\n",
        "image_dir = \"/content/drive/MyDrive/train_images/train_images\"\n",
        "\n",
        "valid_extensions = {\".jpg\", \".jpeg\", \".png\", \".bmp\", \".gif\"}\n",
        "\n",
        "def convert_images(image_dir):\n",
        "    for filename in os.listdir(image_dir):\n",
        "        file_path = os.path.join(image_dir, filename)\n",
        "        # Skip directories and non-image files\n",
        "        if not os.path.isfile(file_path) or not any(filename.lower().endswith(ext) for ext in valid_extensions):\n",
        "            print(f\"Skipping {filename} (not an image file)\")\n",
        "            continue\n",
        "        try:\n",
        "            with Image.open(file_path) as img:\n",
        "                img.convert(\"RGB\").save(file_path, \"PNG\")  # Save as PNG\n",
        "        except Exception as e:\n",
        "            print(f\"Skipping {filename}: {e}\")\n",
        "\n",
        "convert_images(image_dir)\n",
        "print(\"Image conversion complete.\")\n"
      ],
      "metadata": {
        "id": "V5j4O8QSEO5i"
      },
      "execution_count": null,
      "outputs": []
    },
    {
      "cell_type": "code",
      "source": [
        "import os\n",
        "print(os.listdir(\"/content/drive/MyDrive/train_images\"))\n",
        "\n"
      ],
      "metadata": {
        "id": "EGxbyyWPM_E2",
        "outputId": "da80e356-c371-493a-b205-08981ecd5f12",
        "colab": {
          "base_uri": "https://localhost:8080/"
        }
      },
      "execution_count": 5,
      "outputs": [
        {
          "output_type": "stream",
          "name": "stdout",
          "text": [
            "['train_images', 'train.gsheet', 'train.csv']\n"
          ]
        }
      ]
    }
  ],
  "metadata": {
    "colab": {
      "name": "Welcome To Colab",
      "provenance": [],
      "gpuType": "T4",
      "include_colab_link": true
    },
    "kernelspec": {
      "display_name": "Python 3",
      "name": "python3"
    },
    "accelerator": "GPU"
  },
  "nbformat": 4,
  "nbformat_minor": 0
}