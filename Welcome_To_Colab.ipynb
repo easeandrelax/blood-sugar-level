{
  "cells": [
    {
      "cell_type": "markdown",
      "metadata": {
        "id": "view-in-github",
        "colab_type": "text"
      },
      "source": [
        "<a href=\"https://colab.research.google.com/github/easeandrelax/blood-sugar-level/blob/main/Welcome_To_Colab.ipynb\" target=\"_parent\"><img src=\"https://colab.research.google.com/assets/colab-badge.svg\" alt=\"Open In Colab\"/></a>"
      ]
    },
    {
      "cell_type": "markdown",
      "source": [
        "Data Preprocessing"
      ],
      "metadata": {
        "id": "TG2YuGuU3vKM"
      }
    },
    {
      "cell_type": "code",
      "source": [
        "from google.colab import drive\n",
        "drive.mount('/content/drive')"
      ],
      "metadata": {
        "id": "CiE48fts3y7C",
        "outputId": "8059c70b-cce0-4db3-aa55-095389143d59",
        "colab": {
          "base_uri": "https://localhost:8080/"
        }
      },
      "execution_count": 24,
      "outputs": [
        {
          "output_type": "stream",
          "name": "stdout",
          "text": [
            "Drive already mounted at /content/drive; to attempt to forcibly remount, call drive.mount(\"/content/drive\", force_remount=True).\n"
          ]
        }
      ]
    },
    {
      "cell_type": "markdown",
      "source": [
        "🔹 Why Mount Google Drive?\n",
        "Persistent Storage – Files in /content (Colab's default directory) get deleted after the session ends, but Google Drive keeps your files safe.\n",
        "\n",
        "Easy File Access – Instead of re-uploading files every time, you can store them in Drive and load them whenever needed.\n",
        "\n",
        "Handling Large Datasets – If you're working with large files (like images or CSVs), storing them in Drive prevents running out of Colab's limited storage.\n",
        "\n",
        "Syncing with Other Devices – You can access the same files from different devices without re-downloading them."
      ],
      "metadata": {
        "id": "Cu4V5AQQ4glM"
      }
    },
    {
      "cell_type": "code",
      "source": [
        "import os\n",
        "\n",
        "image_folder = \"/content/drive/MyDrive/train_images\"\n",
        "image_files = os.listdir(image_folder)\n",
        "\n",
        "print(f\"Total images found: {len(image_files)}\")\n",
        "print(image_files[:10])  # Show first 10 images\n"
      ],
      "metadata": {
        "id": "fKBmr_yB_Ph6",
        "outputId": "19bede9c-84ef-4094-f702-82cb57b5b2f4",
        "colab": {
          "base_uri": "https://localhost:8080/"
        }
      },
      "execution_count": 25,
      "outputs": [
        {
          "output_type": "stream",
          "name": "stdout",
          "text": [
            "Total images found: 66\n",
            "['7005be54cab1.png', '702de9dcde32.png', '6fe67fd7f5d1.png', '6fe67482bfae.png', '70d0392397de.png', '70d657f8f503.png', '705f508d1e42.png', '70ed3ec68b94.png', '709784f7fcc2.png', '70f5caf5f305.png']\n"
          ]
        }
      ]
    },
    {
      "cell_type": "markdown",
      "source": [],
      "metadata": {
        "id": "HiUJPscx_by_"
      }
    },
    {
      "cell_type": "code",
      "source": [
        "csv_path = \"/content/drive/MyDrive/train_images/train.csv\"\n",
        "if os.path.exists(csv_path):\n",
        "    print(\"✅ CSV file found!\")\n",
        "else:\n",
        "    print(\"❌ CSV file missing. Please upload it.\")\n"
      ],
      "metadata": {
        "id": "-AHTizc0_cGJ",
        "outputId": "0705eb4e-306b-4f68-fa93-0fce2a2ca589",
        "colab": {
          "base_uri": "https://localhost:8080/"
        }
      },
      "execution_count": 26,
      "outputs": [
        {
          "output_type": "stream",
          "name": "stdout",
          "text": [
            "✅ CSV file found!\n"
          ]
        }
      ]
    },
    {
      "cell_type": "code",
      "source": [
        "import pandas as pd\n",
        "\n",
        "# Get list of image files\n",
        "image_files = os.listdir(image_folder)\n",
        "\n",
        "# Create a DataFrame with filenames and random labels (modify labels accordingly)\n",
        "df = pd.DataFrame({\"Image Name\": image_files, \"Label\": [\"class_1\"] * len(image_files)})\n",
        "\n",
        "# Save CSV in Drive\n",
        "csv_path = \"/content/drive/MyDrive/train_images/train.csv\"\n",
        "df.to_csv(csv_path, index=False)\n",
        "\n",
        "print(f\"✅ CSV file created and saved at: {csv_path}\")\n"
      ],
      "metadata": {
        "id": "pz88o9TO_g3D",
        "outputId": "0fcba633-9e4a-4670-b335-4f6f656131b3",
        "colab": {
          "base_uri": "https://localhost:8080/"
        }
      },
      "execution_count": 28,
      "outputs": [
        {
          "output_type": "stream",
          "name": "stdout",
          "text": [
            "✅ CSV file created and saved at: /content/drive/MyDrive/train_images/train.csv\n"
          ]
        }
      ]
    },
    {
      "cell_type": "code",
      "source": [
        "import pandas as pd\n",
        "\n",
        "CSV_PATH = \"/content/drive/MyDrive/train_images/train.csv\"\n",
        "df = pd.read_csv(CSV_PATH)\n",
        "\n",
        "print(\"✅ CSV File Loaded Successfully!\")\n",
        "print(df.head())  # Display the first few rows\n"
      ],
      "metadata": {
        "id": "_FBe0GlFNzAe",
        "outputId": "adcf9e08-b2f0-481c-9198-e5bdb650829e",
        "colab": {
          "base_uri": "https://localhost:8080/"
        }
      },
      "execution_count": 29,
      "outputs": [
        {
          "output_type": "stream",
          "name": "stdout",
          "text": [
            "✅ CSV File Loaded Successfully!\n",
            "         Image Name    Label\n",
            "0  7005be54cab1.png  class_1\n",
            "1  702de9dcde32.png  class_1\n",
            "2  6fe67fd7f5d1.png  class_1\n",
            "3  6fe67482bfae.png  class_1\n",
            "4  70d0392397de.png  class_1\n"
          ]
        }
      ]
    }
  ],
  "metadata": {
    "colab": {
      "name": "Welcome To Colab",
      "provenance": [],
      "include_colab_link": true
    },
    "kernelspec": {
      "display_name": "Python 3",
      "name": "python3"
    }
  },
  "nbformat": 4,
  "nbformat_minor": 0
}